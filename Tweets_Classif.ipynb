{
 "cells": [
  {
   "cell_type": "markdown",
   "metadata": {},
   "source": [
    "<center> <h1>Tweets Classification</h1></center>"
   ]
  },
  {
   "cell_type": "markdown",
   "metadata": {},
   "source": [
    "<h3>1. Creating a (pandas) DataFrame:</h3>"
   ]
  },
  {
   "cell_type": "markdown",
   "metadata": {},
   "source": [
    "We now have initial information to construct a pandas DataFrame, in order to manipulate the info in a very easy way."
   ]
  },
  {
   "cell_type": "code",
   "execution_count": 253,
   "metadata": {},
   "outputs": [
    {
     "data": {
      "text/html": [
       "<div>\n",
       "<style scoped>\n",
       "    .dataframe tbody tr th:only-of-type {\n",
       "        vertical-align: middle;\n",
       "    }\n",
       "\n",
       "    .dataframe tbody tr th {\n",
       "        vertical-align: top;\n",
       "    }\n",
       "\n",
       "    .dataframe thead th {\n",
       "        text-align: right;\n",
       "    }\n",
       "</style>\n",
       "<table border=\"1\" class=\"dataframe\">\n",
       "  <thead>\n",
       "    <tr style=\"text-align: right;\">\n",
       "      <th></th>\n",
       "      <th>date</th>\n",
       "      <th>TweetId</th>\n",
       "      <th>Tweet</th>\n",
       "      <th>created_at</th>\n",
       "      <th>geo</th>\n",
       "      <th>place</th>\n",
       "      <th>coordinates</th>\n",
       "      <th>location</th>\n",
       "    </tr>\n",
       "  </thead>\n",
       "  <tbody>\n",
       "    <tr>\n",
       "      <th>0</th>\n",
       "      <td>2020-12-04  12:23</td>\n",
       "      <td>1334820688041930754</td>\n",
       "      <td>RT @spurtmagoo: It's fucking hilarious that so...</td>\n",
       "      <td>2020-12-04 11:23:46</td>\n",
       "      <td>NaN</td>\n",
       "      <td>NaN</td>\n",
       "      <td>NaN</td>\n",
       "      <td>on stolen land</td>\n",
       "    </tr>\n",
       "    <tr>\n",
       "      <th>1</th>\n",
       "      <td>2020-12-04  12:23</td>\n",
       "      <td>1334820682723627011</td>\n",
       "      <td>RT @MesutOzil1088: Nowadays there are still ma...</td>\n",
       "      <td>2020-12-04 11:23:45</td>\n",
       "      <td>NaN</td>\n",
       "      <td>NaN</td>\n",
       "      <td>NaN</td>\n",
       "      <td>My Studio</td>\n",
       "    </tr>\n",
       "    <tr>\n",
       "      <th>2</th>\n",
       "      <td>2020-12-04  12:23</td>\n",
       "      <td>1334820679787667456</td>\n",
       "      <td>RT @Speaker_CoJ: The engagement will boast spe...</td>\n",
       "      <td>2020-12-04 11:23:44</td>\n",
       "      <td>NaN</td>\n",
       "      <td>NaN</td>\n",
       "      <td>NaN</td>\n",
       "      <td>Johannesburg, South Africa</td>\n",
       "    </tr>\n",
       "    <tr>\n",
       "      <th>3</th>\n",
       "      <td>2020-12-04  12:23</td>\n",
       "      <td>1334820675358429184</td>\n",
       "      <td>RT @MaloomTiger: All Government Organizations ...</td>\n",
       "      <td>2020-12-04 11:23:43</td>\n",
       "      <td>NaN</td>\n",
       "      <td>NaN</td>\n",
       "      <td>NaN</td>\n",
       "      <td>NaN</td>\n",
       "    </tr>\n",
       "    <tr>\n",
       "      <th>4</th>\n",
       "      <td>2020-12-04  12:23</td>\n",
       "      <td>1334820673877757952</td>\n",
       "      <td>RT @naqvimukhtar: After abolition of the Artic...</td>\n",
       "      <td>2020-12-04 11:23:43</td>\n",
       "      <td>NaN</td>\n",
       "      <td>NaN</td>\n",
       "      <td>NaN</td>\n",
       "      <td>NaN</td>\n",
       "    </tr>\n",
       "    <tr>\n",
       "      <th>...</th>\n",
       "      <td>...</td>\n",
       "      <td>...</td>\n",
       "      <td>...</td>\n",
       "      <td>...</td>\n",
       "      <td>...</td>\n",
       "      <td>...</td>\n",
       "      <td>...</td>\n",
       "      <td>...</td>\n",
       "    </tr>\n",
       "    <tr>\n",
       "      <th>195</th>\n",
       "      <td>2020-12-04  12:23</td>\n",
       "      <td>1334819989178691586</td>\n",
       "      <td>RT @larsaddams: i dont think “SJW” “woke cultu...</td>\n",
       "      <td>2020-12-04 11:20:59</td>\n",
       "      <td>NaN</td>\n",
       "      <td>NaN</td>\n",
       "      <td>NaN</td>\n",
       "      <td>Salem</td>\n",
       "    </tr>\n",
       "    <tr>\n",
       "      <th>196</th>\n",
       "      <td>2020-12-04  12:23</td>\n",
       "      <td>1334819987232534529</td>\n",
       "      <td>RT @martialdeyforyo: \"No matter how far we str...</td>\n",
       "      <td>2020-12-04 11:20:59</td>\n",
       "      <td>NaN</td>\n",
       "      <td>NaN</td>\n",
       "      <td>NaN</td>\n",
       "      <td>NaN</td>\n",
       "    </tr>\n",
       "    <tr>\n",
       "      <th>197</th>\n",
       "      <td>2020-12-04  12:23</td>\n",
       "      <td>1334819987169697794</td>\n",
       "      <td>RT @martialdeyforyo: \"No matter how far we str...</td>\n",
       "      <td>2020-12-04 11:20:59</td>\n",
       "      <td>NaN</td>\n",
       "      <td>NaN</td>\n",
       "      <td>NaN</td>\n",
       "      <td>Somewhere</td>\n",
       "    </tr>\n",
       "    <tr>\n",
       "      <th>198</th>\n",
       "      <td>2020-12-04  12:23</td>\n",
       "      <td>1334819976876871681</td>\n",
       "      <td>@Call_Me_They @DemosthenesBrit @jesterlavores ...</td>\n",
       "      <td>2020-12-04 11:20:56</td>\n",
       "      <td>NaN</td>\n",
       "      <td>NaN</td>\n",
       "      <td>NaN</td>\n",
       "      <td>Wishing to be somewhere else</td>\n",
       "    </tr>\n",
       "    <tr>\n",
       "      <th>199</th>\n",
       "      <td>2020-12-04  12:23</td>\n",
       "      <td>1334819972011397120</td>\n",
       "      <td>RT @artofajet: If this is true the African cul...</td>\n",
       "      <td>2020-12-04 11:20:55</td>\n",
       "      <td>NaN</td>\n",
       "      <td>NaN</td>\n",
       "      <td>NaN</td>\n",
       "      <td>NaN</td>\n",
       "    </tr>\n",
       "  </tbody>\n",
       "</table>\n",
       "<p>200 rows × 8 columns</p>\n",
       "</div>"
      ],
      "text/plain": [
       "                  date              TweetId  \\\n",
       "0    2020-12-04  12:23  1334820688041930754   \n",
       "1    2020-12-04  12:23  1334820682723627011   \n",
       "2    2020-12-04  12:23  1334820679787667456   \n",
       "3    2020-12-04  12:23  1334820675358429184   \n",
       "4    2020-12-04  12:23  1334820673877757952   \n",
       "..                 ...                  ...   \n",
       "195  2020-12-04  12:23  1334819989178691586   \n",
       "196  2020-12-04  12:23  1334819987232534529   \n",
       "197  2020-12-04  12:23  1334819987169697794   \n",
       "198  2020-12-04  12:23  1334819976876871681   \n",
       "199  2020-12-04  12:23  1334819972011397120   \n",
       "\n",
       "                                                 Tweet           created_at  \\\n",
       "0    RT @spurtmagoo: It's fucking hilarious that so...  2020-12-04 11:23:46   \n",
       "1    RT @MesutOzil1088: Nowadays there are still ma...  2020-12-04 11:23:45   \n",
       "2    RT @Speaker_CoJ: The engagement will boast spe...  2020-12-04 11:23:44   \n",
       "3    RT @MaloomTiger: All Government Organizations ...  2020-12-04 11:23:43   \n",
       "4    RT @naqvimukhtar: After abolition of the Artic...  2020-12-04 11:23:43   \n",
       "..                                                 ...                  ...   \n",
       "195  RT @larsaddams: i dont think “SJW” “woke cultu...  2020-12-04 11:20:59   \n",
       "196  RT @martialdeyforyo: \"No matter how far we str...  2020-12-04 11:20:59   \n",
       "197  RT @martialdeyforyo: \"No matter how far we str...  2020-12-04 11:20:59   \n",
       "198  @Call_Me_They @DemosthenesBrit @jesterlavores ...  2020-12-04 11:20:56   \n",
       "199  RT @artofajet: If this is true the African cul...  2020-12-04 11:20:55   \n",
       "\n",
       "     geo place coordinates                      location  \n",
       "0    NaN   NaN         NaN                on stolen land  \n",
       "1    NaN   NaN         NaN                    My Studio   \n",
       "2    NaN   NaN         NaN    Johannesburg, South Africa  \n",
       "3    NaN   NaN         NaN                           NaN  \n",
       "4    NaN   NaN         NaN                           NaN  \n",
       "..   ...   ...         ...                           ...  \n",
       "195  NaN   NaN         NaN                         Salem  \n",
       "196  NaN   NaN         NaN                           NaN  \n",
       "197  NaN   NaN         NaN                     Somewhere  \n",
       "198  NaN   NaN         NaN  Wishing to be somewhere else  \n",
       "199  NaN   NaN         NaN                           NaN  \n",
       "\n",
       "[200 rows x 8 columns]"
      ]
     },
     "metadata": {},
     "output_type": "display_data"
    }
   ],
   "source": [
    "# importing numpy and pandas libraries  \n",
    "import pandas as pd\n",
    "import numpy as np\n",
    "# loading our Dataset \n",
    "tweets_df = pd.read_csv(\"collect_data/tweets.csv\")\n",
    "# display the first 200 elements of the dataframe:\n",
    "display(tweets_df.head(200))\n"
   ]
  },
  {
   "cell_type": "code",
   "execution_count": 257,
   "metadata": {},
   "outputs": [],
   "source": [
    "# We create a pandas dataframe as TweetId and Tweet:\n",
    "tweets= tweets_df[['TweetId','Tweet']]"
   ]
  },
  {
   "cell_type": "code",
   "execution_count": 258,
   "metadata": {},
   "outputs": [
    {
     "name": "stdout",
     "output_type": "stream",
     "text": [
      "shape: (85521, 2)\n"
     ]
    },
    {
     "data": {
      "text/html": [
       "<div>\n",
       "<style scoped>\n",
       "    .dataframe tbody tr th:only-of-type {\n",
       "        vertical-align: middle;\n",
       "    }\n",
       "\n",
       "    .dataframe tbody tr th {\n",
       "        vertical-align: top;\n",
       "    }\n",
       "\n",
       "    .dataframe thead th {\n",
       "        text-align: right;\n",
       "    }\n",
       "</style>\n",
       "<table border=\"1\" class=\"dataframe\">\n",
       "  <thead>\n",
       "    <tr style=\"text-align: right;\">\n",
       "      <th></th>\n",
       "      <th>TweetId</th>\n",
       "      <th>Tweet</th>\n",
       "    </tr>\n",
       "  </thead>\n",
       "  <tbody>\n",
       "    <tr>\n",
       "      <th>0</th>\n",
       "      <td>1334820688041930754</td>\n",
       "      <td>RT @spurtmagoo: It's fucking hilarious that so...</td>\n",
       "    </tr>\n",
       "    <tr>\n",
       "      <th>1</th>\n",
       "      <td>1334820682723627011</td>\n",
       "      <td>RT @MesutOzil1088: Nowadays there are still ma...</td>\n",
       "    </tr>\n",
       "    <tr>\n",
       "      <th>2</th>\n",
       "      <td>1334820679787667456</td>\n",
       "      <td>RT @Speaker_CoJ: The engagement will boast spe...</td>\n",
       "    </tr>\n",
       "    <tr>\n",
       "      <th>3</th>\n",
       "      <td>1334820675358429184</td>\n",
       "      <td>RT @MaloomTiger: All Government Organizations ...</td>\n",
       "    </tr>\n",
       "    <tr>\n",
       "      <th>4</th>\n",
       "      <td>1334820673877757952</td>\n",
       "      <td>RT @naqvimukhtar: After abolition of the Artic...</td>\n",
       "    </tr>\n",
       "  </tbody>\n",
       "</table>\n",
       "</div>"
      ],
      "text/plain": [
       "               TweetId                                              Tweet\n",
       "0  1334820688041930754  RT @spurtmagoo: It's fucking hilarious that so...\n",
       "1  1334820682723627011  RT @MesutOzil1088: Nowadays there are still ma...\n",
       "2  1334820679787667456  RT @Speaker_CoJ: The engagement will boast spe...\n",
       "3  1334820675358429184  RT @MaloomTiger: All Government Organizations ...\n",
       "4  1334820673877757952  RT @naqvimukhtar: After abolition of the Artic..."
      ]
     },
     "metadata": {},
     "output_type": "display_data"
    }
   ],
   "source": [
    "print(\"shape:\", tweets.shape)\n",
    "# We display the first 5 elements of the dataframe:\n",
    "display(tweets.head())"
   ]
  },
  {
   "cell_type": "markdown",
   "metadata": {},
   "source": [
    "<h4><a><font color='#cc0000'> Note:</font></a></h4>\n",
    "    \n",
    "* We notice that there's unstructables tweets"
   ]
  },
  {
   "cell_type": "markdown",
   "metadata": {},
   "source": [
    "<h3>1. Pre-processing Data:</h3>"
   ]
  },
  {
   "cell_type": "markdown",
   "metadata": {},
   "source": [
    "#### Natural Langage Processing"
   ]
  },
  {
   "cell_type": "markdown",
   "metadata": {},
   "source": [
    "* NLP is a field in machine learning with the ability of a computer to understand, analyze, manipulate, and potentially generate human language.\n"
   ]
  },
  {
   "cell_type": "markdown",
   "metadata": {},
   "source": [
    "#### Installing NLTK"
   ]
  },
  {
   "cell_type": "markdown",
   "metadata": {},
   "source": [
    "* (Natural Language Toolkit): NLTK is a popular open-source package in Python. Rather than building all tools from scratch, NLTK provides all common NLP Tasks."
   ]
  },
  {
   "cell_type": "code",
   "execution_count": 259,
   "metadata": {},
   "outputs": [
    {
     "name": "stdout",
     "output_type": "stream",
     "text": [
      "Requirement already satisfied: nltk in c:\\users\\my_computing\\anaconda3\\lib\\site-packages (3.5)\n",
      "Requirement already satisfied: tqdm in c:\\users\\my_computing\\anaconda3\\lib\\site-packages (from nltk) (4.47.0)\n",
      "Requirement already satisfied: click in c:\\users\\my_computing\\anaconda3\\lib\\site-packages (from nltk) (7.1.2)\n",
      "Requirement already satisfied: regex in c:\\users\\my_computing\\anaconda3\\lib\\site-packages (from nltk) (2020.6.8)\n",
      "Requirement already satisfied: joblib in c:\\users\\my_computing\\anaconda3\\lib\\site-packages (from nltk) (0.16.0)\n"
     ]
    }
   ],
   "source": [
    "!pip install nltk"
   ]
  },
  {
   "cell_type": "markdown",
   "metadata": {},
   "source": [
    "After typing the above, we get an NLTK Downloader Application which is helpful in NLP Tasks.\n",
    "\n",
    "We can install other useful packages, for example Stopwords Corpus which helps in removing redundant repeated words. "
   ]
  },
  {
   "cell_type": "code",
   "execution_count": 30,
   "metadata": {},
   "outputs": [
    {
     "name": "stdout",
     "output_type": "stream",
     "text": [
      "showing info https://raw.githubusercontent.com/nltk/nltk_data/gh-pages/index.xml\n"
     ]
    },
    {
     "data": {
      "text/plain": [
       "True"
      ]
     },
     "execution_count": 30,
     "metadata": {},
     "output_type": "execute_result"
    }
   ],
   "source": [
    "nltk.download()"
   ]
  },
  {
   "cell_type": "code",
   "execution_count": 260,
   "metadata": {},
   "outputs": [],
   "source": [
    "#importing needed librairies \n",
    "import pandas as pd\n",
    "import numpy as np\n",
    "import matplotlib.pyplot as plt\n",
    "import seaborn as sns\n",
    "import re\n",
    "import spacy\n",
    "from sklearn.model_selection import train_test_split\n",
    "import nltk\n",
    "from nltk.tokenize import RegexpTokenizer, WhitespaceTokenizer\n",
    "from nltk.stem import WordNetLemmatizer\n",
    "from nltk.corpus import stopwords\n",
    "import string\n",
    "from string import punctuation\n",
    "import collections\n",
    "from collections import Counter\n",
    "import en_core_web_sm\n",
    "from sklearn.metrics import jaccard_score"
   ]
  },
  {
   "cell_type": "markdown",
   "metadata": {},
   "source": [
    "#### Reading in text data & why do we need to clean the text?\n",
    "While reading data, we get data in the structured or unstructured format. A structured format has a well-defined pattern whereas unstructured data has no proper structure. In between the 2 structures, we have a semi-structured format which is a comparably better structured than unstructured format."
   ]
  },
  {
   "cell_type": "markdown",
   "metadata": {},
   "source": [
    "#### Cleanning tweets"
   ]
  },
  {
   "cell_type": "markdown",
   "metadata": {},
   "source": [
    "Cleaning up the text data is necessary to highlight attributes. Cleaning (or pre-processing) the data typically consists of a number of steps:"
   ]
  },
  {
   "cell_type": "code",
   "execution_count": 261,
   "metadata": {},
   "outputs": [
    {
     "data": {
      "text/html": [
       "<div>\n",
       "<style scoped>\n",
       "    .dataframe tbody tr th:only-of-type {\n",
       "        vertical-align: middle;\n",
       "    }\n",
       "\n",
       "    .dataframe tbody tr th {\n",
       "        vertical-align: top;\n",
       "    }\n",
       "\n",
       "    .dataframe thead th {\n",
       "        text-align: right;\n",
       "    }\n",
       "</style>\n",
       "<table border=\"1\" class=\"dataframe\">\n",
       "  <thead>\n",
       "    <tr style=\"text-align: right;\">\n",
       "      <th></th>\n",
       "      <th>TweetId</th>\n",
       "      <th>Tweet</th>\n",
       "    </tr>\n",
       "  </thead>\n",
       "  <tbody>\n",
       "    <tr>\n",
       "      <th>0</th>\n",
       "      <td>1334820688041930754</td>\n",
       "      <td>RT @spurtmagoo: It's fucking hilarious that so...</td>\n",
       "    </tr>\n",
       "    <tr>\n",
       "      <th>1</th>\n",
       "      <td>1334820682723627011</td>\n",
       "      <td>RT @MesutOzil1088: Nowadays there are still ma...</td>\n",
       "    </tr>\n",
       "    <tr>\n",
       "      <th>2</th>\n",
       "      <td>1334820679787667456</td>\n",
       "      <td>RT @Speaker_CoJ: The engagement will boast spe...</td>\n",
       "    </tr>\n",
       "    <tr>\n",
       "      <th>3</th>\n",
       "      <td>1334820675358429184</td>\n",
       "      <td>RT @MaloomTiger: All Government Organizations ...</td>\n",
       "    </tr>\n",
       "    <tr>\n",
       "      <th>4</th>\n",
       "      <td>1334820673877757952</td>\n",
       "      <td>RT @naqvimukhtar: After abolition of the Artic...</td>\n",
       "    </tr>\n",
       "    <tr>\n",
       "      <th>5</th>\n",
       "      <td>1334820673051643909</td>\n",
       "      <td>RT @Anaes_Journal: 🔐\"...where the real work is...</td>\n",
       "    </tr>\n",
       "    <tr>\n",
       "      <th>6</th>\n",
       "      <td>1334820673047367681</td>\n",
       "      <td>Pakistan Citizen’s Portal (PCP) empowers the c...</td>\n",
       "    </tr>\n",
       "    <tr>\n",
       "      <th>7</th>\n",
       "      <td>1334820669654233089</td>\n",
       "      <td>RT @odeyemi_yemi: Omo, visitors no dey give ch...</td>\n",
       "    </tr>\n",
       "    <tr>\n",
       "      <th>8</th>\n",
       "      <td>1334820668827979778</td>\n",
       "      <td>RT @MesutOzil1088: Nowadays there are still ma...</td>\n",
       "    </tr>\n",
       "    <tr>\n",
       "      <th>9</th>\n",
       "      <td>1334820667150176261</td>\n",
       "      <td>Dealing with youth vigilantism and its impact ...</td>\n",
       "    </tr>\n",
       "  </tbody>\n",
       "</table>\n",
       "</div>"
      ],
      "text/plain": [
       "               TweetId                                              Tweet\n",
       "0  1334820688041930754  RT @spurtmagoo: It's fucking hilarious that so...\n",
       "1  1334820682723627011  RT @MesutOzil1088: Nowadays there are still ma...\n",
       "2  1334820679787667456  RT @Speaker_CoJ: The engagement will boast spe...\n",
       "3  1334820675358429184  RT @MaloomTiger: All Government Organizations ...\n",
       "4  1334820673877757952  RT @naqvimukhtar: After abolition of the Artic...\n",
       "5  1334820673051643909  RT @Anaes_Journal: 🔐\"...where the real work is...\n",
       "6  1334820673047367681  Pakistan Citizen’s Portal (PCP) empowers the c...\n",
       "7  1334820669654233089  RT @odeyemi_yemi: Omo, visitors no dey give ch...\n",
       "8  1334820668827979778  RT @MesutOzil1088: Nowadays there are still ma...\n",
       "9  1334820667150176261  Dealing with youth vigilantism and its impact ..."
      ]
     },
     "execution_count": 261,
     "metadata": {},
     "output_type": "execute_result"
    }
   ],
   "source": [
    "tweets.head(10)"
   ]
  },
  {
   "cell_type": "markdown",
   "metadata": {},
   "source": [
    "* #### Remove the hashtags, mentions and unwanted characters from the tweet texts"
   ]
  },
  {
   "cell_type": "code",
   "execution_count": 262,
   "metadata": {
    "scrolled": true
   },
   "outputs": [
    {
     "name": "stderr",
     "output_type": "stream",
     "text": [
      "<ipython-input-262-8ed56d76abe0>:3: SettingWithCopyWarning: \n",
      "A value is trying to be set on a copy of a slice from a DataFrame.\n",
      "Try using .loc[row_indexer,col_indexer] = value instead\n",
      "\n",
      "See the caveats in the documentation: https://pandas.pydata.org/pandas-docs/stable/user_guide/indexing.html#returning-a-view-versus-a-copy\n",
      "  df[text_field] = df[text_field].str.lower()\n",
      "<ipython-input-262-8ed56d76abe0>:4: SettingWithCopyWarning: \n",
      "A value is trying to be set on a copy of a slice from a DataFrame.\n",
      "Try using .loc[row_indexer,col_indexer] = value instead\n",
      "\n",
      "See the caveats in the documentation: https://pandas.pydata.org/pandas-docs/stable/user_guide/indexing.html#returning-a-view-versus-a-copy\n",
      "  df[text_field] = df[text_field].apply(lambda elem: re.sub(r\"(@[A-Za-z0-9]+)|([^0-9A-Za-z \\t])|(\\w+:\\/\\/\\S+)|^rt|http.+?\", \"\", elem))\n"
     ]
    },
    {
     "data": {
      "text/html": [
       "<div>\n",
       "<style scoped>\n",
       "    .dataframe tbody tr th:only-of-type {\n",
       "        vertical-align: middle;\n",
       "    }\n",
       "\n",
       "    .dataframe tbody tr th {\n",
       "        vertical-align: top;\n",
       "    }\n",
       "\n",
       "    .dataframe thead th {\n",
       "        text-align: right;\n",
       "    }\n",
       "</style>\n",
       "<table border=\"1\" class=\"dataframe\">\n",
       "  <thead>\n",
       "    <tr style=\"text-align: right;\">\n",
       "      <th></th>\n",
       "      <th>TweetId</th>\n",
       "      <th>Tweet</th>\n",
       "    </tr>\n",
       "  </thead>\n",
       "  <tbody>\n",
       "    <tr>\n",
       "      <th>0</th>\n",
       "      <td>1334820688041930754</td>\n",
       "      <td>its fucking hilarious that some peoples idea...</td>\n",
       "    </tr>\n",
       "    <tr>\n",
       "      <th>1</th>\n",
       "      <td>1334820682723627011</td>\n",
       "      <td>nowadays there are still many discussions in...</td>\n",
       "    </tr>\n",
       "    <tr>\n",
       "      <th>2</th>\n",
       "      <td>1334820679787667456</td>\n",
       "      <td>coj the engagement will boast speakers such a...</td>\n",
       "    </tr>\n",
       "    <tr>\n",
       "      <th>3</th>\n",
       "      <td>1334820675358429184</td>\n",
       "      <td>all government organizations shall develop a...</td>\n",
       "    </tr>\n",
       "    <tr>\n",
       "      <th>4</th>\n",
       "      <td>1334820673877757952</td>\n",
       "      <td>after abolition of the article 370 rights of...</td>\n",
       "    </tr>\n",
       "    <tr>\n",
       "      <th>5</th>\n",
       "      <td>1334820673051643909</td>\n",
       "      <td>journal where the real work is needed is chan...</td>\n",
       "    </tr>\n",
       "    <tr>\n",
       "      <th>6</th>\n",
       "      <td>1334820673047367681</td>\n",
       "      <td>pakistan citizens portal pcp empowers the citi...</td>\n",
       "    </tr>\n",
       "    <tr>\n",
       "      <th>7</th>\n",
       "      <td>1334820669654233089</td>\n",
       "      <td>yemi omo visitors no dey give children money ...</td>\n",
       "    </tr>\n",
       "    <tr>\n",
       "      <th>8</th>\n",
       "      <td>1334820668827979778</td>\n",
       "      <td>nowadays there are still many discussions in...</td>\n",
       "    </tr>\n",
       "    <tr>\n",
       "      <th>9</th>\n",
       "      <td>1334820667150176261</td>\n",
       "      <td>dealing with youth vigilantism and its impact ...</td>\n",
       "    </tr>\n",
       "  </tbody>\n",
       "</table>\n",
       "</div>"
      ],
      "text/plain": [
       "               TweetId                                              Tweet\n",
       "0  1334820688041930754    its fucking hilarious that some peoples idea...\n",
       "1  1334820682723627011    nowadays there are still many discussions in...\n",
       "2  1334820679787667456   coj the engagement will boast speakers such a...\n",
       "3  1334820675358429184    all government organizations shall develop a...\n",
       "4  1334820673877757952    after abolition of the article 370 rights of...\n",
       "5  1334820673051643909   journal where the real work is needed is chan...\n",
       "6  1334820673047367681  pakistan citizens portal pcp empowers the citi...\n",
       "7  1334820669654233089   yemi omo visitors no dey give children money ...\n",
       "8  1334820668827979778    nowadays there are still many discussions in...\n",
       "9  1334820667150176261  dealing with youth vigilantism and its impact ..."
      ]
     },
     "execution_count": 262,
     "metadata": {},
     "output_type": "execute_result"
    }
   ],
   "source": [
    "# remove the hashtags, mentions and unwanted characters from the tweet texts\n",
    "def clean_text(df, text_field):\n",
    "    df[text_field] = df[text_field].str.lower()\n",
    "    df[text_field] = df[text_field].apply(lambda elem: re.sub(r\"(@[A-Za-z0-9]+)|([^0-9A-Za-z \\t])|(\\w+:\\/\\/\\S+)|^rt|http.+?\", \"\", elem))  \n",
    "    return df\n",
    "\n",
    "clean_tweets = clean_text(tweets, 'Tweet')\n",
    "clean_tweets.head(10)"
   ]
  },
  {
   "cell_type": "markdown",
   "metadata": {},
   "source": [
    "* #### Remove stopwords, punctuations, lemmatize and tokenize word"
   ]
  },
  {
   "cell_type": "markdown",
   "metadata": {},
   "source": [
    "Remove stopwords :<br/>\n",
    "Stopwords are common words that will likely appear in any text. They don’t tell us much about our data so we remove them. eg: silver or lead is fine for me-> silver, lead, fine.<br/>\n",
    "Lemmatize :<br/>\n",
    "Lemmatizing derives the canonical form (‘lemma’) of a word. i.e the root form. It is better than stemming as it uses a dictionary-based approach i.e a morphological analysis to the root word.eg: Entitling, Entitled->Entitle <br/>\n",
    "Tokenize :<br/>\n",
    "Tokenizing separates text into units such as sentences or words. It gives structure to previously unstructured text. eg: Plata o Plomo-> ‘Plata’,’o’,’Plomo’."
   ]
  },
  {
   "cell_type": "code",
   "execution_count": 263,
   "metadata": {},
   "outputs": [
    {
     "name": "stderr",
     "output_type": "stream",
     "text": [
      "C:\\Users\\My_Computing\\anaconda3\\lib\\site-packages\\pandas\\core\\generic.py:5303: SettingWithCopyWarning: \n",
      "A value is trying to be set on a copy of a slice from a DataFrame.\n",
      "Try using .loc[row_indexer,col_indexer] = value instead\n",
      "\n",
      "See the caveats in the documentation: https://pandas.pydata.org/pandas-docs/stable/user_guide/indexing.html#returning-a-view-versus-a-copy\n",
      "  self[name] = value\n"
     ]
    }
   ],
   "source": [
    "#remove stopwords, punctuations, lemmatize and tokenize word\n",
    "#working with english only, no support for swahili(because we are some tweets are from South Africa)\n",
    "nlp = spacy.load(\"en_core_web_sm\")  \n",
    "nlp = en_core_web_sm.load()\n",
    "tokenizer = RegexpTokenizer(r'\\w+')\n",
    "lemmatizer = WordNetLemmatizer()\n",
    "stop = set(stopwords.words('english'))\n",
    "punctuation = list(string.punctuation) #already taken care of with the cleaning function.\n",
    "stop.update(punctuation)\n",
    "w_tokenizer = WhitespaceTokenizer()\n",
    "\n",
    "            \n",
    "def furnished(text):\n",
    "    final_text = []\n",
    "    for i in w_tokenizer.tokenize(text):\n",
    "#     for i in text.split():\n",
    "        if i.lower() not in stop:\n",
    "            word = lemmatizer.lemmatize(i)\n",
    "            final_text.append(word.lower())\n",
    "    return \" \".join(final_text)\n",
    "tweets.Tweet = tweets.Tweet.apply(furnished)"
   ]
  },
  {
   "cell_type": "code",
   "execution_count": 264,
   "metadata": {},
   "outputs": [
    {
     "data": {
      "text/html": [
       "<div>\n",
       "<style scoped>\n",
       "    .dataframe tbody tr th:only-of-type {\n",
       "        vertical-align: middle;\n",
       "    }\n",
       "\n",
       "    .dataframe tbody tr th {\n",
       "        vertical-align: top;\n",
       "    }\n",
       "\n",
       "    .dataframe thead th {\n",
       "        text-align: right;\n",
       "    }\n",
       "</style>\n",
       "<table border=\"1\" class=\"dataframe\">\n",
       "  <thead>\n",
       "    <tr style=\"text-align: right;\">\n",
       "      <th></th>\n",
       "      <th>TweetId</th>\n",
       "      <th>Tweet</th>\n",
       "    </tr>\n",
       "  </thead>\n",
       "  <tbody>\n",
       "    <tr>\n",
       "      <th>0</th>\n",
       "      <td>1334820688041930754</td>\n",
       "      <td>fucking hilarious people idea culture corporat...</td>\n",
       "    </tr>\n",
       "    <tr>\n",
       "      <th>1</th>\n",
       "      <td>1334820682723627011</td>\n",
       "      <td>nowadays still many discussion public islam pa...</td>\n",
       "    </tr>\n",
       "    <tr>\n",
       "      <th>2</th>\n",
       "      <td>1334820679787667456</td>\n",
       "      <td>coj engagement boast speaker gauteng mec publi...</td>\n",
       "    </tr>\n",
       "    <tr>\n",
       "      <th>3</th>\n",
       "      <td>1334820675358429184</td>\n",
       "      <td>government organization shall develop culture ...</td>\n",
       "    </tr>\n",
       "    <tr>\n",
       "      <th>4</th>\n",
       "      <td>1334820673877757952</td>\n",
       "      <td>abolition article 370 right people jammukashmi...</td>\n",
       "    </tr>\n",
       "    <tr>\n",
       "      <th>5</th>\n",
       "      <td>1334820673051643909</td>\n",
       "      <td>journal real work needed changing culture anae...</td>\n",
       "    </tr>\n",
       "    <tr>\n",
       "      <th>6</th>\n",
       "      <td>1334820673047367681</td>\n",
       "      <td>pakistan citizen portal pcp empowers citizen e...</td>\n",
       "    </tr>\n",
       "    <tr>\n",
       "      <th>7</th>\n",
       "      <td>1334820669654233089</td>\n",
       "      <td>yemi omo visitor dey give child money whats ha...</td>\n",
       "    </tr>\n",
       "    <tr>\n",
       "      <th>8</th>\n",
       "      <td>1334820668827979778</td>\n",
       "      <td>nowadays still many discussion public islam pa...</td>\n",
       "    </tr>\n",
       "    <tr>\n",
       "      <th>9</th>\n",
       "      <td>1334820667150176261</td>\n",
       "      <td>dealing youth vigilantism impact democratic ci...</td>\n",
       "    </tr>\n",
       "  </tbody>\n",
       "</table>\n",
       "</div>"
      ],
      "text/plain": [
       "               TweetId                                              Tweet\n",
       "0  1334820688041930754  fucking hilarious people idea culture corporat...\n",
       "1  1334820682723627011  nowadays still many discussion public islam pa...\n",
       "2  1334820679787667456  coj engagement boast speaker gauteng mec publi...\n",
       "3  1334820675358429184  government organization shall develop culture ...\n",
       "4  1334820673877757952  abolition article 370 right people jammukashmi...\n",
       "5  1334820673051643909  journal real work needed changing culture anae...\n",
       "6  1334820673047367681  pakistan citizen portal pcp empowers citizen e...\n",
       "7  1334820669654233089  yemi omo visitor dey give child money whats ha...\n",
       "8  1334820668827979778  nowadays still many discussion public islam pa...\n",
       "9  1334820667150176261  dealing youth vigilantism impact democratic ci..."
      ]
     },
     "execution_count": 264,
     "metadata": {},
     "output_type": "execute_result"
    }
   ],
   "source": [
    "tweets.head(10)"
   ]
  },
  {
   "cell_type": "code",
   "execution_count": 265,
   "metadata": {},
   "outputs": [
    {
     "name": "stdout",
     "output_type": "stream",
     "text": [
      "shape: (72926, 2)\n"
     ]
    }
   ],
   "source": [
    "#we delete the duplicate lines using drop_duplicates():\n",
    "tweets = tweets.drop_duplicates()\n",
    "print(\"shape:\", tweets.shape)"
   ]
  },
  {
   "cell_type": "markdown",
   "metadata": {},
   "source": [
    "### 2. Clustering:\n",
    "*  Involves grouping tweets into 4 categories: ***Economic, Social, Culture*** and ***health*** then performing KMeans clustering on the grouped tweets to observe how they behave.\n",
    "* There are several ways of approaching the problem of grouping the tweets such as use of hashtags, user description to check on someone's inclination et.c . My approach uses the technique of creating a set of words that can be confidently classified as belonging to a particular category for each of the 4 classes. \n",
    "* So the tweets are each compared with the 4 sets and assigned a similarity score. This is main technique I considered for computing similarity score:\n",
    "    * Jaccard Similarity: Jaccard similarity or intersection over union is defined as size of intersection divided by size of union of two sets.\n",
    "    \n",
    "* So, what's Jaccard similarity?\n",
    "    * Jaccard similarity takes only unique set of words for each sentence / document.Jaccard similarity is good for cases where duplication does not matter, cosine similarity is good for cases where duplication matters while analyzing text similarity. In our case, context matters more than duplication thus making ==>Jaccard similarity the most appropriate method to use.\n",
    "* After getting a tweet's score for the 4 classes, the class with the highest score (highest similarity) is where the tweet is classified. There may be a thin line between ***social, economic*** and ***health*** classes given that the words involved in the 3 classes deeply intermarry, thus the scores among the 3 classes will be really close.\n",
    "* After classifiying the tweets, sums are done across the categories per user then K Means clustering comes in.\n"
   ]
  },
  {
   "cell_type": "markdown",
   "metadata": {},
   "source": [
    "#### 2.1. Defining the set of words"
   ]
  },
  {
   "cell_type": "code",
   "execution_count": 266,
   "metadata": {},
   "outputs": [],
   "source": [
    "economy_related_words = '''agriculture infrastructure capitalism trading service sector technology  economical supply \n",
    "                         industrialism efficiency frugality retrenchment downsizing   credit debit value rc rational action theory \n",
    "                         economize   save  economically economic cycle economics economy economist finance sector sickness slump smart growth \n",
    "                         economies sluggish rise   rising spending conserve trend gdp gross domestic product poverty line world economy\n",
    "                         low-management  decline   industry impact poor  industry market failure macroeconomics poverty trap \n",
    "                         profession    surplus   fall globalisation gnp Gross National Product ndp net domestic product wealth creation\n",
    "                         declining  accelerating interest sectors balance stability productivity increase rates public debt \n",
    "                         pushing expanding stabilize  rate industrial borrowing struggling money supply national debt\n",
    "                         deficit predicted    increasing  data deflation market liberalism national income political economy\n",
    "                         economizer analysts investment market-based economy   debt free enterprise national product sap structural adjustment programme\n",
    "                         medium  exchange metric savepoint scarcity capital bank company stockholder fund business  \n",
    "                         asset treasury tourism incomes contraction employment jobs upturn deflation  macroeconomics\n",
    "                         bankruptcies exporters hyperinflation dollar entrepreneurship upswing marketplace commerce devaluation \n",
    "                         quicksave deindustrialization stockmarket reflation downspin dollarization withholder bankroll venture capital\n",
    "                         mutual fund plan economy mortgage lender unemployment rate credit crunch central bank financial institution\n",
    "                         bank rate custom duties mass-production black-market developing-countries developing economic-growth gdp trade barter \n",
    "                         distribution downturn economist company capital mobility choice theory downswing double dip recession depression credit crunch '''"
   ]
  },
  {
   "cell_type": "code",
   "execution_count": 267,
   "metadata": {},
   "outputs": [],
   "source": [
    "social_related_words = '''sociable, gregarious societal friendly society socialization political  sociality societal animal\n",
    "                        interpersonal  ethnic socially party welfare public community socialist societies development multiethnic\n",
    "                        social network humans socialism collective personal corporation social constructivism volition\n",
    "                        relations volition citizenship brute   attitude rights socio  economic personal educational corporation\n",
    "                        socioeconomic ethics civic communal marital  sociale socialized communities animals  intellectual\n",
    "                        policy   unions cordial common popular  commenest attitude rights swarming socio politics socialism\n",
    "                        institutions values  beast   governmental   organizations jamboree cultural public socii citizenship\n",
    "                        festivity    fairness  support  care  behavioral familiar friendly health organisms religious humans\n",
    "                        sides   activism   own  unsocial psychosocial general group mixer interpersonal brute social constructivism\n",
    "                        socializing psychological distributional  demographic  participation reunion relations of production\n",
    "                        partygoer partyism festive power network gala housewarming celebration counterparty   social-war promote\n",
    "                        particularist interactional ideational asocial ethnical fauna creature herding herding labour poverty\n",
    "                        multi-ethnic communal marital corporate education values particular focused awareness company governmental\n",
    "                        aspects change festivity labor work context fairness leadership important ways learning challenges care\n",
    "                        institutional ideas reforms support poor integration changing create'''\n",
    "\n"
   ]
  },
  {
   "cell_type": "code",
   "execution_count": 268,
   "metadata": {},
   "outputs": [],
   "source": [
    "culture_related_words  = ''' ethnicity heritage modernity spirituality marxismmaterial culture \n",
    "                           ethos nationality humanism romanticism civilisation traditionalism genetics\n",
    "                        kinship heredity marriage   indigenous  archeology  acculturate  \n",
    "                       ontogenesis viniculture modern clothes     rooted \n",
    "                       cicero societies history roots influence geography historical folk origins \n",
    "                       phenomenon teleology ancient aspects perspective liberalism nowadays community style unique prevalent describes \n",
    "                         today  origin   modernity beliefs  genre barbarian ethnic \n",
    "                       colonization cultural universal organization western-civilization structuralism  culture \n",
    "                       heathen pagan transculturation culture peasant classicist nativism anarchy ungrown philosophic cult  \n",
    "                       consciousness islamist bro-culture evolve cultic diaspora aftergrowth native cultural-relativism  \n",
    "                       mongolian cosmopolitan epistemology lifestyles diversity chauvinism westernization materialism vernacular \n",
    "                       homogeneity otherness holism tusculanae disputationes primitivism superficiality hedonism discourse\n",
    "                       puritanism modernism intellectualism  exclusiveness elitism  colonialism  \n",
    "                       pentecostalism paganism nationwide expansion rural  auxesis kimono \n",
    "                       culturize alethophobia nettlebed japanification  dongyi clannishness insularity hybridity\n",
    "                       westernisation foreignness worldview exclusionism enculturation ethnocentrism  confucianist vulgarization\n",
    "                       shintoism  westernism denominationalism    deracination\n",
    "                        eurocentrism  cosmologies  emotiveness bohemianism territorialism\n",
    "                       philosophical-doctrine ethnic minority social-darwinism  theory cultural evolution belief systemfolk music \n",
    "                       traditional art house karl-marx   theorymedia  \n",
    "                       film-theory art history museum studies cultural artifact'''"
   ]
  },
  {
   "cell_type": "code",
   "execution_count": 269,
   "metadata": {},
   "outputs": [],
   "source": [
    "health_related_words = '''disease obesity world health organization medicine nutrition well-being exercise welfare wellness health care public health \n",
    "                     nursing stress safety hygiene research social healthy condition aids epidemiology healthiness wellbeing energy fitness\n",
    "                     care illness medical dieteducation infectious disease environmental healthcare physical fitness hospitals bloom shape\n",
    "                     health care provider doctors healthy community design insurance sanitation human body patient mental health tone pink\n",
    "                      medicare agriculture health science fitnesshealth policy  weight loss physical therapy psychology pharmacy haleness\n",
    "                     metabolic organism human lifestyle status unhealthy upbeat vaccination sleep condom alcohol smoking water family tonicity\n",
    "                     eudaimonia eudaemonia air house prevention genetics public families poor needs treatment communicable disease top form\n",
    "                     study protection malaria development food priority management healthful mental provide department administration verdure\n",
    "                     programs help assistance funding environment improving emergency need program affected schools private mental illness \n",
    "                     treat diseases preparedness perinatal fertility sickness veterinary sanitary pharmacists behavioral midwives constitution\n",
    "                     gerontology infertility hospitalization midwifery cholesterol childcare pediatrician pediatrics medicaid asthma robustness\n",
    "                     pensions sicknesses push-up physical education body-mass-index eat well gymnastic apparatus tune up good morning \n",
    "                     bathing low blood-pressure heart attack health club ride-bike you feel good eczema urticaria dermatitis sunburn overwork \n",
    "                     manufacturing medical sociology need exercise run'''"
   ]
  },
  {
   "cell_type": "markdown",
   "metadata": {},
   "source": [
    "#### Processing the sets"
   ]
  },
  {
   "cell_type": "markdown",
   "metadata": {},
   "source": [
    "Now, we need to clean our sets."
   ]
  },
  {
   "cell_type": "code",
   "execution_count": 270,
   "metadata": {},
   "outputs": [],
   "source": [
    "#Tokenizing and removing stop words from the sets\n",
    "nlp = en_core_web_sm.load()\n",
    "tokenizer = RegexpTokenizer(r'\\w+')\n",
    "lemmatizer = WordNetLemmatizer()\n",
    "stop = set(stopwords.words('english'))\n",
    "punctuation = list(string.punctuation)\n",
    "stop.update(punctuation)\n",
    "w_tokenizer = WhitespaceTokenizer()\n",
    "\n",
    "# clean the set of words\n",
    "            \n",
    "def furnished(text):\n",
    "    final_text = []\n",
    "    for i in text.split():\n",
    "        if i.lower() not in stop:\n",
    "            word = lemmatizer.lemmatize(i)\n",
    "            final_text.append(word.lower())\n",
    "    return \" \".join(final_text)\n"
   ]
  },
  {
   "cell_type": "code",
   "execution_count": 271,
   "metadata": {},
   "outputs": [],
   "source": [
    "# apply the furnished function on our sets\n",
    "economy = furnished(economy_related_words)\n",
    "social = furnished(social_related_words)\n",
    "culture = furnished(culture_related_words)\n",
    "health = furnished(health_related_words)"
   ]
  },
  {
   "cell_type": "markdown",
   "metadata": {},
   "source": [
    "#### Removing duplicates"
   ]
  },
  {
   "cell_type": "code",
   "execution_count": 272,
   "metadata": {},
   "outputs": [
    {
     "data": {
      "text/plain": [
       "'agriculture infrastructure capitalism trading service sector technology economical supply industrialism efficiency frugality retrenchment downsizing credit debit value rc rational action theory economize save economically economic cycle economics economy economist finance sickness slump smart growth sluggish rise rising spending conserve trend gdp gross domestic product poverty line world low-management decline industry impact poor market failure macroeconomics trap profession surplus fall globalisation gnp national ndp net wealth creation declining accelerating interest balance stability productivity increase rate public debt pushing expanding stabilize industrial borrowing struggling money deficit predicted increasing data deflation liberalism income political economizer analyst investment market-based free enterprise sap structural adjustment programme medium exchange metric savepoint scarcity capital bank company stockholder fund business asset treasury tourism contraction employment job upturn bankruptcy exporter hyperinflation dollar entrepreneurship upswing marketplace commerce devaluation quicksave deindustrialization stockmarket reflation downspin dollarization withholder bankroll venture mutual plan mortgage lender unemployment crunch central financial institution custom duty mass-production black-market developing-countries developing economic-growth trade barter distribution downturn mobility choice downswing double dip recession depression'"
      ]
     },
     "execution_count": 272,
     "metadata": {},
     "output_type": "execute_result"
    }
   ],
   "source": [
    "# delete duplicates\n",
    "string1 = economy\n",
    "words = string1.split()\n",
    "economy = \" \".join(sorted(set(words), key=words.index))\n",
    "economy"
   ]
  },
  {
   "cell_type": "code",
   "execution_count": 273,
   "metadata": {},
   "outputs": [
    {
     "data": {
      "text/plain": [
       "'sociable, gregarious societal friendly society socialization political sociality animal interpersonal ethnic socially party welfare public community socialist development multiethnic social network human socialism collective personal corporation constructivism volition relation citizenship brute attitude right socio economic educational socioeconomic ethic civic communal marital sociale socialized intellectual policy union cordial common popular commenest swarming politics institution value beast governmental organization jamboree cultural socii festivity fairness support care behavioral familiar health organism religious side activism unsocial psychosocial general group mixer socializing psychological distributional demographic participation reunion production partygoer partyism festive power gala housewarming celebration counterparty social-war promote particularist interactional ideational asocial ethnical fauna creature herding labour poverty multi-ethnic corporate education particular focused awareness company aspect change labor work context leadership important way learning challenge institutional idea reform poor integration changing create'"
      ]
     },
     "execution_count": 273,
     "metadata": {},
     "output_type": "execute_result"
    }
   ],
   "source": [
    "string2 = social\n",
    "words = string2.split()\n",
    "social = \" \".join(sorted(set(words), key=words.index))\n",
    "social"
   ]
  },
  {
   "cell_type": "code",
   "execution_count": 274,
   "metadata": {},
   "outputs": [
    {
     "data": {
      "text/plain": [
       "'ethnicity heritage modernity spirituality marxismmaterial culture ethos nationality humanism romanticism civilisation traditionalism genetics kinship heredity marriage indigenous archeology acculturate ontogenesis viniculture modern clothes rooted cicero society history root influence geography historical folk origin phenomenon teleology ancient aspect perspective liberalism nowadays community style unique prevalent describes today belief genre barbarian ethnic colonization cultural universal organization western-civilization structuralism heathen pagan transculturation peasant classicist nativism anarchy ungrown philosophic cult consciousness islamist bro-culture evolve cultic diaspora aftergrowth native cultural-relativism mongolian cosmopolitan epistemology lifestyle diversity chauvinism westernization materialism vernacular homogeneity otherness holism tusculanae disputationes primitivism superficiality hedonism discourse puritanism modernism intellectualism exclusiveness elitism colonialism pentecostalism paganism nationwide expansion rural auxesis kimono culturize alethophobia nettlebed japanification dongyi clannishness insularity hybridity westernisation foreignness worldview exclusionism enculturation ethnocentrism confucianist vulgarization shintoism westernism denominationalism deracination eurocentrism cosmology emotiveness bohemianism territorialism philosophical-doctrine minority social-darwinism theory evolution systemfolk music traditional art house karl-marx theorymedia film-theory museum study artifact'"
      ]
     },
     "execution_count": 274,
     "metadata": {},
     "output_type": "execute_result"
    }
   ],
   "source": [
    "string3 = culture\n",
    "words = string3.split()\n",
    "culture = \" \".join(sorted(set(words), key=words.index))\n",
    "culture"
   ]
  },
  {
   "cell_type": "code",
   "execution_count": 275,
   "metadata": {},
   "outputs": [
    {
     "data": {
      "text/plain": [
       "'disease obesity world health organization medicine nutrition well-being exercise welfare wellness care public nursing stress safety hygiene research social healthy condition aid epidemiology healthiness wellbeing energy fitness illness medical dieteducation infectious environmental healthcare physical hospital bloom shape provider doctor community design insurance sanitation human body patient mental tone pink medicare agriculture science fitnesshealth policy weight loss therapy psychology pharmacy haleness metabolic organism lifestyle status unhealthy upbeat vaccination sleep condom alcohol smoking water family tonicity eudaimonia eudaemonia air house prevention genetics poor need treatment communicable top form study protection malaria development food priority management healthful provide department administration verdure program help assistance funding environment improving emergency affected school private treat preparedness perinatal fertility sickness veterinary sanitary pharmacist behavioral midwife constitution gerontology infertility hospitalization midwifery cholesterol childcare pediatrician pediatrics medicaid asthma robustness pension push-up education body-mass-index eat well gymnastic apparatus tune good morning bathing low blood-pressure heart attack club ride-bike feel eczema urticaria dermatitis sunburn overwork manufacturing sociology run'"
      ]
     },
     "execution_count": 275,
     "metadata": {},
     "output_type": "execute_result"
    }
   ],
   "source": [
    "string4 = health\n",
    "words = string4.split()\n",
    "health = \" \".join(sorted(set(words), key=words.index))\n",
    "health"
   ]
  },
  {
   "cell_type": "markdown",
   "metadata": {},
   "source": [
    "#### 2.2. Jaccard Similarity"
   ]
  },
  {
   "cell_type": "code",
   "execution_count": 276,
   "metadata": {},
   "outputs": [],
   "source": [
    "def jaccard_similarity(query, document):\n",
    "    intersection = set(query).intersection(set(document))\n",
    "    union = set(query).union(set(document))\n",
    "    return len(intersection)/len(union)\n",
    "\n",
    "def get_scores(group,Tweet):\n",
    "    scores = []\n",
    "    for tweet in Tweet:\n",
    "        s = jaccard_similarity(group, tweet)\n",
    "        scores.append(s)\n",
    "    return scores"
   ]
  },
  {
   "cell_type": "code",
   "execution_count": 277,
   "metadata": {},
   "outputs": [
    {
     "data": {
      "text/plain": [
       "[0.6428571428571429,\n",
       " 0.7096774193548387,\n",
       " 0.7,\n",
       " 0.6428571428571429,\n",
       " 0.6774193548387096,\n",
       " 0.6428571428571429,\n",
       " 0.7142857142857143,\n",
       " 0.75,\n",
       " 0.5357142857142857,\n",
       " 0.7]"
      ]
     },
     "execution_count": 277,
     "metadata": {},
     "output_type": "execute_result"
    }
   ],
   "source": [
    "# economic scores\n",
    "e_scores = get_scores(economy, tweets.Tweet.to_list())\n",
    "e_scores[-10:]"
   ]
  },
  {
   "cell_type": "code",
   "execution_count": 278,
   "metadata": {},
   "outputs": [
    {
     "data": {
      "text/plain": [
       "[0.6428571428571429,\n",
       " 0.7096774193548387,\n",
       " 0.7,\n",
       " 0.6428571428571429,\n",
       " 0.6774193548387096,\n",
       " 0.6428571428571429,\n",
       " 0.7142857142857143,\n",
       " 0.75,\n",
       " 0.5357142857142857,\n",
       " 0.7]"
      ]
     },
     "execution_count": 278,
     "metadata": {},
     "output_type": "execute_result"
    }
   ],
   "source": [
    "# social scores\n",
    "s_scores = get_scores(social, tweets.Tweet.to_list())\n",
    "s_scores[-10:]"
   ]
  },
  {
   "cell_type": "code",
   "execution_count": 279,
   "metadata": {},
   "outputs": [
    {
     "data": {
      "text/plain": [
       "[0.6428571428571429,\n",
       " 0.7096774193548387,\n",
       " 0.7,\n",
       " 0.6428571428571429,\n",
       " 0.6774193548387096,\n",
       " 0.6428571428571429,\n",
       " 0.7142857142857143,\n",
       " 0.75,\n",
       " 0.5357142857142857,\n",
       " 0.7]"
      ]
     },
     "execution_count": 279,
     "metadata": {},
     "output_type": "execute_result"
    }
   ],
   "source": [
    "# culture scores\n",
    "c_scores = get_scores(culture, tweets.Tweet.to_list())\n",
    "c_scores[-10:]"
   ]
  },
  {
   "cell_type": "code",
   "execution_count": 280,
   "metadata": {},
   "outputs": [
    {
     "data": {
      "text/plain": [
       "[0.7692307692307693,\n",
       " 0.8076923076923077,\n",
       " 0.7777777777777778,\n",
       " 0.8076923076923077,\n",
       " 0.6333333333333333,\n",
       " 0.6296296296296297,\n",
       " 0.7692307692307693,\n",
       " 0.8076923076923077,\n",
       " 0.8076923076923077,\n",
       " 0.7407407407407407]"
      ]
     },
     "execution_count": 280,
     "metadata": {},
     "output_type": "execute_result"
    }
   ],
   "source": [
    "# health scores\n",
    "h_scores = get_scores(health, tweets.Tweet.to_list())\n",
    "h_scores[:10]"
   ]
  },
  {
   "cell_type": "code",
   "execution_count": 281,
   "metadata": {},
   "outputs": [
    {
     "data": {
      "text/html": [
       "<div>\n",
       "<style scoped>\n",
       "    .dataframe tbody tr th:only-of-type {\n",
       "        vertical-align: middle;\n",
       "    }\n",
       "\n",
       "    .dataframe tbody tr th {\n",
       "        vertical-align: top;\n",
       "    }\n",
       "\n",
       "    .dataframe thead th {\n",
       "        text-align: right;\n",
       "    }\n",
       "</style>\n",
       "<table border=\"1\" class=\"dataframe\">\n",
       "  <thead>\n",
       "    <tr style=\"text-align: right;\">\n",
       "      <th></th>\n",
       "      <th>Tweets</th>\n",
       "      <th>economic_score</th>\n",
       "      <th>social_score</th>\n",
       "      <th>culture_score</th>\n",
       "      <th>health_scores</th>\n",
       "    </tr>\n",
       "  </thead>\n",
       "  <tbody>\n",
       "    <tr>\n",
       "      <th>0</th>\n",
       "      <td>fucking hilarious people idea culture corporat...</td>\n",
       "      <td>0.714286</td>\n",
       "      <td>0.714286</td>\n",
       "      <td>0.714286</td>\n",
       "      <td>0.769231</td>\n",
       "    </tr>\n",
       "    <tr>\n",
       "      <th>1</th>\n",
       "      <td>nowadays still many discussion public islam pa...</td>\n",
       "      <td>0.750000</td>\n",
       "      <td>0.750000</td>\n",
       "      <td>0.750000</td>\n",
       "      <td>0.807692</td>\n",
       "    </tr>\n",
       "    <tr>\n",
       "      <th>2</th>\n",
       "      <td>coj engagement boast speaker gauteng mec publi...</td>\n",
       "      <td>0.785714</td>\n",
       "      <td>0.785714</td>\n",
       "      <td>0.785714</td>\n",
       "      <td>0.777778</td>\n",
       "    </tr>\n",
       "    <tr>\n",
       "      <th>3</th>\n",
       "      <td>government organization shall develop culture ...</td>\n",
       "      <td>0.750000</td>\n",
       "      <td>0.750000</td>\n",
       "      <td>0.750000</td>\n",
       "      <td>0.807692</td>\n",
       "    </tr>\n",
       "    <tr>\n",
       "      <th>4</th>\n",
       "      <td>abolition article 370 right people jammukashmi...</td>\n",
       "      <td>0.645161</td>\n",
       "      <td>0.645161</td>\n",
       "      <td>0.645161</td>\n",
       "      <td>0.633333</td>\n",
       "    </tr>\n",
       "    <tr>\n",
       "      <th>5</th>\n",
       "      <td>journal real work needed changing culture anae...</td>\n",
       "      <td>0.642857</td>\n",
       "      <td>0.642857</td>\n",
       "      <td>0.642857</td>\n",
       "      <td>0.629630</td>\n",
       "    </tr>\n",
       "    <tr>\n",
       "      <th>6</th>\n",
       "      <td>pakistan citizen portal pcp empowers citizen e...</td>\n",
       "      <td>0.714286</td>\n",
       "      <td>0.714286</td>\n",
       "      <td>0.714286</td>\n",
       "      <td>0.769231</td>\n",
       "    </tr>\n",
       "    <tr>\n",
       "      <th>7</th>\n",
       "      <td>yemi omo visitor dey give child money whats ha...</td>\n",
       "      <td>0.750000</td>\n",
       "      <td>0.750000</td>\n",
       "      <td>0.750000</td>\n",
       "      <td>0.807692</td>\n",
       "    </tr>\n",
       "    <tr>\n",
       "      <th>8</th>\n",
       "      <td>nowadays still many discussion public islam pa...</td>\n",
       "      <td>0.750000</td>\n",
       "      <td>0.750000</td>\n",
       "      <td>0.750000</td>\n",
       "      <td>0.807692</td>\n",
       "    </tr>\n",
       "    <tr>\n",
       "      <th>9</th>\n",
       "      <td>dealing youth vigilantism impact democratic ci...</td>\n",
       "      <td>0.750000</td>\n",
       "      <td>0.689655</td>\n",
       "      <td>0.750000</td>\n",
       "      <td>0.740741</td>\n",
       "    </tr>\n",
       "    <tr>\n",
       "      <th>10</th>\n",
       "      <td>accessible mean open public complaint standard...</td>\n",
       "      <td>0.714286</td>\n",
       "      <td>0.714286</td>\n",
       "      <td>0.714286</td>\n",
       "      <td>0.769231</td>\n",
       "    </tr>\n",
       "    <tr>\n",
       "      <th>11</th>\n",
       "      <td>shri fc kohli ji remembered pioneering contrib...</td>\n",
       "      <td>0.750000</td>\n",
       "      <td>0.750000</td>\n",
       "      <td>0.750000</td>\n",
       "      <td>0.740741</td>\n",
       "    </tr>\n",
       "    <tr>\n",
       "      <th>12</th>\n",
       "      <td>kolkata dr raii dg stpiindia keynote address c...</td>\n",
       "      <td>0.642857</td>\n",
       "      <td>0.642857</td>\n",
       "      <td>0.642857</td>\n",
       "      <td>0.692308</td>\n",
       "    </tr>\n",
       "    <tr>\n",
       "      <th>13</th>\n",
       "      <td>walker say dampds problem race deeper stat bon...</td>\n",
       "      <td>0.785714</td>\n",
       "      <td>0.785714</td>\n",
       "      <td>0.785714</td>\n",
       "      <td>0.846154</td>\n",
       "    </tr>\n",
       "    <tr>\n",
       "      <th>14</th>\n",
       "      <td>talking representing korean culture breaking m...</td>\n",
       "      <td>0.750000</td>\n",
       "      <td>0.750000</td>\n",
       "      <td>0.750000</td>\n",
       "      <td>0.807692</td>\n",
       "    </tr>\n",
       "    <tr>\n",
       "      <th>15</th>\n",
       "      <td>entire culture war medium academia entertainme...</td>\n",
       "      <td>0.607143</td>\n",
       "      <td>0.607143</td>\n",
       "      <td>0.607143</td>\n",
       "      <td>0.653846</td>\n",
       "    </tr>\n",
       "    <tr>\n",
       "      <th>16</th>\n",
       "      <td>perhaps first prime minister truly understand ...</td>\n",
       "      <td>0.750000</td>\n",
       "      <td>0.750000</td>\n",
       "      <td>0.750000</td>\n",
       "      <td>0.807692</td>\n",
       "    </tr>\n",
       "    <tr>\n",
       "      <th>17</th>\n",
       "      <td>nowadays still many discussion public islam pa...</td>\n",
       "      <td>0.750000</td>\n",
       "      <td>0.750000</td>\n",
       "      <td>0.750000</td>\n",
       "      <td>0.807692</td>\n",
       "    </tr>\n",
       "    <tr>\n",
       "      <th>18</th>\n",
       "      <td>african woman cinema blog archiveswomen comoro...</td>\n",
       "      <td>0.750000</td>\n",
       "      <td>0.750000</td>\n",
       "      <td>0.750000</td>\n",
       "      <td>0.807692</td>\n",
       "    </tr>\n",
       "    <tr>\n",
       "      <th>19</th>\n",
       "      <td>striking image 2020 bbc culture</td>\n",
       "      <td>0.500000</td>\n",
       "      <td>0.500000</td>\n",
       "      <td>0.500000</td>\n",
       "      <td>0.535714</td>\n",
       "    </tr>\n",
       "  </tbody>\n",
       "</table>\n",
       "</div>"
      ],
      "text/plain": [
       "                                               Tweets  economic_score  \\\n",
       "0   fucking hilarious people idea culture corporat...        0.714286   \n",
       "1   nowadays still many discussion public islam pa...        0.750000   \n",
       "2   coj engagement boast speaker gauteng mec publi...        0.785714   \n",
       "3   government organization shall develop culture ...        0.750000   \n",
       "4   abolition article 370 right people jammukashmi...        0.645161   \n",
       "5   journal real work needed changing culture anae...        0.642857   \n",
       "6   pakistan citizen portal pcp empowers citizen e...        0.714286   \n",
       "7   yemi omo visitor dey give child money whats ha...        0.750000   \n",
       "8   nowadays still many discussion public islam pa...        0.750000   \n",
       "9   dealing youth vigilantism impact democratic ci...        0.750000   \n",
       "10  accessible mean open public complaint standard...        0.714286   \n",
       "11  shri fc kohli ji remembered pioneering contrib...        0.750000   \n",
       "12  kolkata dr raii dg stpiindia keynote address c...        0.642857   \n",
       "13  walker say dampds problem race deeper stat bon...        0.785714   \n",
       "14  talking representing korean culture breaking m...        0.750000   \n",
       "15  entire culture war medium academia entertainme...        0.607143   \n",
       "16  perhaps first prime minister truly understand ...        0.750000   \n",
       "17  nowadays still many discussion public islam pa...        0.750000   \n",
       "18  african woman cinema blog archiveswomen comoro...        0.750000   \n",
       "19                    striking image 2020 bbc culture        0.500000   \n",
       "\n",
       "    social_score  culture_score  health_scores  \n",
       "0       0.714286       0.714286       0.769231  \n",
       "1       0.750000       0.750000       0.807692  \n",
       "2       0.785714       0.785714       0.777778  \n",
       "3       0.750000       0.750000       0.807692  \n",
       "4       0.645161       0.645161       0.633333  \n",
       "5       0.642857       0.642857       0.629630  \n",
       "6       0.714286       0.714286       0.769231  \n",
       "7       0.750000       0.750000       0.807692  \n",
       "8       0.750000       0.750000       0.807692  \n",
       "9       0.689655       0.750000       0.740741  \n",
       "10      0.714286       0.714286       0.769231  \n",
       "11      0.750000       0.750000       0.740741  \n",
       "12      0.642857       0.642857       0.692308  \n",
       "13      0.785714       0.785714       0.846154  \n",
       "14      0.750000       0.750000       0.807692  \n",
       "15      0.607143       0.607143       0.653846  \n",
       "16      0.750000       0.750000       0.807692  \n",
       "17      0.750000       0.750000       0.807692  \n",
       "18      0.750000       0.750000       0.807692  \n",
       "19      0.500000       0.500000       0.535714  "
      ]
     },
     "execution_count": 281,
     "metadata": {},
     "output_type": "execute_result"
    }
   ],
   "source": [
    "#new dataframe with tweets, and the jaccard scores for each group\n",
    "\n",
    "newDf  = {'Tweets':tweets.Tweet.to_list(), 'economic_score':e_scores,\n",
    "         'social_score': s_scores, 'culture_score':c_scores, 'health_scores':h_scores}\n",
    "scores_df = pd.DataFrame(newDf)\n",
    "scores_df.head(20)"
   ]
  },
  {
   "cell_type": "markdown",
   "metadata": {},
   "source": [
    "Note:\n",
    "There's a thin line between economy, social and culture."
   ]
  },
  {
   "cell_type": "markdown",
   "metadata": {},
   "source": [
    "Pick out the greatest score out of the 4 scores, where the score is greatest, replace it with 1, the rest 0."
   ]
  },
  {
   "cell_type": "code",
   "execution_count": 282,
   "metadata": {},
   "outputs": [],
   "source": [
    "#assigning of classes to the tweets\n",
    "\n",
    "def get_clusters(l1, l2, l3, l4):\n",
    "    econ = []\n",
    "    socio = []\n",
    "    cul = []\n",
    "    heal = []\n",
    "    for i, j, k, l in zip(l1, l2, l3, l4):\n",
    "        m = max(i, j, k, l)\n",
    "        if m == i:\n",
    "            econ.append(1)\n",
    "        else:\n",
    "            econ.append(0)\n",
    "        if m == j:\n",
    "            socio.append(1)\n",
    "        else:\n",
    "            socio.append(0)        \n",
    "        if m == k:\n",
    "            cul.append(1)\n",
    "        else:\n",
    "            cul.append(0)  \n",
    "        if m == l:\n",
    "            heal.append(1)\n",
    "        else:\n",
    "            heal.append(0)   \n",
    "            \n",
    "    return econ, socio, cul, heal"
   ]
  },
  {
   "cell_type": "code",
   "execution_count": 283,
   "metadata": {},
   "outputs": [],
   "source": [
    "l1 = scores_df.economic_score.to_list()\n",
    "l2 = scores_df.social_score.to_list()\n",
    "l3 = scores_df.culture_score.to_list()\n",
    "l4 = scores_df.health_scores.to_list()\n",
    "\n",
    "econ, socio, cul, heal = get_clusters(l1, l2, l3, l4)"
   ]
  },
  {
   "cell_type": "code",
   "execution_count": 284,
   "metadata": {},
   "outputs": [
    {
     "data": {
      "text/html": [
       "<div>\n",
       "<style scoped>\n",
       "    .dataframe tbody tr th:only-of-type {\n",
       "        vertical-align: middle;\n",
       "    }\n",
       "\n",
       "    .dataframe tbody tr th {\n",
       "        vertical-align: top;\n",
       "    }\n",
       "\n",
       "    .dataframe thead th {\n",
       "        text-align: right;\n",
       "    }\n",
       "</style>\n",
       "<table border=\"1\" class=\"dataframe\">\n",
       "  <thead>\n",
       "    <tr style=\"text-align: right;\">\n",
       "      <th></th>\n",
       "      <th>Tweets</th>\n",
       "      <th>economic</th>\n",
       "      <th>social</th>\n",
       "      <th>culture</th>\n",
       "      <th>health</th>\n",
       "    </tr>\n",
       "  </thead>\n",
       "  <tbody>\n",
       "    <tr>\n",
       "      <th>0</th>\n",
       "      <td>fucking hilarious people idea culture corporat...</td>\n",
       "      <td>0</td>\n",
       "      <td>0</td>\n",
       "      <td>0</td>\n",
       "      <td>1</td>\n",
       "    </tr>\n",
       "    <tr>\n",
       "      <th>1</th>\n",
       "      <td>nowadays still many discussion public islam pa...</td>\n",
       "      <td>0</td>\n",
       "      <td>0</td>\n",
       "      <td>0</td>\n",
       "      <td>1</td>\n",
       "    </tr>\n",
       "    <tr>\n",
       "      <th>2</th>\n",
       "      <td>coj engagement boast speaker gauteng mec publi...</td>\n",
       "      <td>1</td>\n",
       "      <td>1</td>\n",
       "      <td>1</td>\n",
       "      <td>0</td>\n",
       "    </tr>\n",
       "    <tr>\n",
       "      <th>3</th>\n",
       "      <td>government organization shall develop culture ...</td>\n",
       "      <td>0</td>\n",
       "      <td>0</td>\n",
       "      <td>0</td>\n",
       "      <td>1</td>\n",
       "    </tr>\n",
       "    <tr>\n",
       "      <th>4</th>\n",
       "      <td>abolition article 370 right people jammukashmi...</td>\n",
       "      <td>1</td>\n",
       "      <td>1</td>\n",
       "      <td>1</td>\n",
       "      <td>0</td>\n",
       "    </tr>\n",
       "    <tr>\n",
       "      <th>...</th>\n",
       "      <td>...</td>\n",
       "      <td>...</td>\n",
       "      <td>...</td>\n",
       "      <td>...</td>\n",
       "      <td>...</td>\n",
       "    </tr>\n",
       "    <tr>\n",
       "      <th>95</th>\n",
       "      <td>matter far stray root culture run deepbest thr...</td>\n",
       "      <td>0</td>\n",
       "      <td>0</td>\n",
       "      <td>0</td>\n",
       "      <td>1</td>\n",
       "    </tr>\n",
       "    <tr>\n",
       "      <th>96</th>\n",
       "      <td>im allen dudley square rod culture 10 liver di...</td>\n",
       "      <td>1</td>\n",
       "      <td>0</td>\n",
       "      <td>1</td>\n",
       "      <td>0</td>\n",
       "    </tr>\n",
       "    <tr>\n",
       "      <th>97</th>\n",
       "      <td>nowadays still many discussion public islam pa...</td>\n",
       "      <td>0</td>\n",
       "      <td>0</td>\n",
       "      <td>0</td>\n",
       "      <td>1</td>\n",
       "    </tr>\n",
       "    <tr>\n",
       "      <th>98</th>\n",
       "      <td>adhd culture unable work vibe</td>\n",
       "      <td>0</td>\n",
       "      <td>0</td>\n",
       "      <td>0</td>\n",
       "      <td>1</td>\n",
       "    </tr>\n",
       "    <tr>\n",
       "      <th>99</th>\n",
       "      <td>announcementwere looking curious people</td>\n",
       "      <td>0</td>\n",
       "      <td>0</td>\n",
       "      <td>0</td>\n",
       "      <td>1</td>\n",
       "    </tr>\n",
       "  </tbody>\n",
       "</table>\n",
       "<p>100 rows × 5 columns</p>\n",
       "</div>"
      ],
      "text/plain": [
       "                                               Tweets  economic  social  \\\n",
       "0   fucking hilarious people idea culture corporat...         0       0   \n",
       "1   nowadays still many discussion public islam pa...         0       0   \n",
       "2   coj engagement boast speaker gauteng mec publi...         1       1   \n",
       "3   government organization shall develop culture ...         0       0   \n",
       "4   abolition article 370 right people jammukashmi...         1       1   \n",
       "..                                                ...       ...     ...   \n",
       "95  matter far stray root culture run deepbest thr...         0       0   \n",
       "96  im allen dudley square rod culture 10 liver di...         1       0   \n",
       "97  nowadays still many discussion public islam pa...         0       0   \n",
       "98                      adhd culture unable work vibe         0       0   \n",
       "99            announcementwere looking curious people         0       0   \n",
       "\n",
       "    culture  health  \n",
       "0         0       1  \n",
       "1         0       1  \n",
       "2         1       0  \n",
       "3         0       1  \n",
       "4         1       0  \n",
       "..      ...     ...  \n",
       "95        0       1  \n",
       "96        1       0  \n",
       "97        0       1  \n",
       "98        0       1  \n",
       "99        0       1  \n",
       "\n",
       "[100 rows x 5 columns]"
      ]
     },
     "execution_count": 284,
     "metadata": {},
     "output_type": "execute_result"
    }
   ],
   "source": [
    "newDf = {'Tweets': scores_df.Tweets.to_list(), 'economic':econ, 'social':socio, 'culture':cul, 'health': heal}\n",
    "cluster_df = pd.DataFrame(newDf)\n",
    "cluster_df.head(100)"
   ]
  },
  {
   "cell_type": "code",
   "execution_count": 285,
   "metadata": {},
   "outputs": [],
   "source": [
    "#some tweets have multiple categories,so to take care of that the rows with a sum > 1 will have to share the categories. \n",
    "a =  cluster_df[['economic', 'social', 'culture', 'health']].sum(axis = 1) > 1\n",
    "c = cluster_df[['economic', 'social', 'culture', 'health']].sum(axis = 1)\n",
    "cluster_df.loc[(a), ['economic','social', 'culture', 'health']] = 1/c"
   ]
  },
  {
   "cell_type": "code",
   "execution_count": 286,
   "metadata": {},
   "outputs": [
    {
     "data": {
      "text/plain": [
       "(72926, 5)"
      ]
     },
     "execution_count": 286,
     "metadata": {},
     "output_type": "execute_result"
    }
   ],
   "source": [
    "cluster_df.shape"
   ]
  },
  {
   "cell_type": "markdown",
   "metadata": {},
   "source": [
    "#### 2.3 Clustered DF"
   ]
  },
  {
   "cell_type": "code",
   "execution_count": 287,
   "metadata": {},
   "outputs": [
    {
     "name": "stdout",
     "output_type": "stream",
     "text": [
      "(41006, 5)\n"
     ]
    },
    {
     "data": {
      "text/html": [
       "<div>\n",
       "<style scoped>\n",
       "    .dataframe tbody tr th:only-of-type {\n",
       "        vertical-align: middle;\n",
       "    }\n",
       "\n",
       "    .dataframe tbody tr th {\n",
       "        vertical-align: top;\n",
       "    }\n",
       "\n",
       "    .dataframe thead th {\n",
       "        text-align: right;\n",
       "    }\n",
       "</style>\n",
       "<table border=\"1\" class=\"dataframe\">\n",
       "  <thead>\n",
       "    <tr style=\"text-align: right;\">\n",
       "      <th></th>\n",
       "      <th>economic</th>\n",
       "      <th>social</th>\n",
       "      <th>culture</th>\n",
       "      <th>health</th>\n",
       "      <th>total</th>\n",
       "    </tr>\n",
       "    <tr>\n",
       "      <th>Tweets</th>\n",
       "      <th></th>\n",
       "      <th></th>\n",
       "      <th></th>\n",
       "      <th></th>\n",
       "      <th></th>\n",
       "    </tr>\n",
       "  </thead>\n",
       "  <tbody>\n",
       "    <tr>\n",
       "      <th>youve paying attention gone past 4 year none happened past week com</th>\n",
       "      <td>0</td>\n",
       "      <td>0</td>\n",
       "      <td>0</td>\n",
       "      <td>1</td>\n",
       "      <td>1</td>\n",
       "    </tr>\n",
       "    <tr>\n",
       "      <th>youve probably read long way small angry planet culture novel currently</th>\n",
       "      <td>0</td>\n",
       "      <td>0</td>\n",
       "      <td>0</td>\n",
       "      <td>1</td>\n",
       "      <td>1</td>\n",
       "    </tr>\n",
       "    <tr>\n",
       "      <th>yr lot feel control remember control choose consume</th>\n",
       "      <td>0</td>\n",
       "      <td>0</td>\n",
       "      <td>0</td>\n",
       "      <td>2</td>\n",
       "      <td>2</td>\n",
       "    </tr>\n",
       "    <tr>\n",
       "      <th>ysrjaganannabaduguvikasam special incentive package announced today sc st entrepreneur apart fr</th>\n",
       "      <td>0</td>\n",
       "      <td>0</td>\n",
       "      <td>0</td>\n",
       "      <td>0</td>\n",
       "      <td>0</td>\n",
       "    </tr>\n",
       "    <tr>\n",
       "      <th>ysskhagria india become vishva guru december 25 celebrated tulsi pujan day foreign garba</th>\n",
       "      <td>0</td>\n",
       "      <td>0</td>\n",
       "      <td>0</td>\n",
       "      <td>0</td>\n",
       "      <td>0</td>\n",
       "    </tr>\n",
       "    <tr>\n",
       "      <th>...</th>\n",
       "      <td>...</td>\n",
       "      <td>...</td>\n",
       "      <td>...</td>\n",
       "      <td>...</td>\n",
       "      <td>...</td>\n",
       "    </tr>\n",
       "    <tr>\n",
       "      <th>zzyzxx mercurial everything una go blame culture u mean u u go gree marry woman wey senior u 11 year</th>\n",
       "      <td>0</td>\n",
       "      <td>0</td>\n",
       "      <td>0</td>\n",
       "      <td>1</td>\n",
       "      <td>1</td>\n",
       "    </tr>\n",
       "    <tr>\n",
       "      <th>zzyzxx really culturei learning</th>\n",
       "      <td>0</td>\n",
       "      <td>0</td>\n",
       "      <td>0</td>\n",
       "      <td>1</td>\n",
       "      <td>1</td>\n",
       "    </tr>\n",
       "    <tr>\n",
       "      <th>zzyzxx understand correctly culture people didnt allow uncl</th>\n",
       "      <td>0</td>\n",
       "      <td>0</td>\n",
       "      <td>0</td>\n",
       "      <td>1</td>\n",
       "      <td>1</td>\n",
       "    </tr>\n",
       "    <tr>\n",
       "      <th>zzyzxx well different experience people culture didnt ask</th>\n",
       "      <td>0</td>\n",
       "      <td>0</td>\n",
       "      <td>0</td>\n",
       "      <td>1</td>\n",
       "      <td>1</td>\n",
       "    </tr>\n",
       "    <tr>\n",
       "      <th>Total</th>\n",
       "      <td>2083</td>\n",
       "      <td>2083</td>\n",
       "      <td>2083</td>\n",
       "      <td>62346</td>\n",
       "      <td>68595</td>\n",
       "    </tr>\n",
       "  </tbody>\n",
       "</table>\n",
       "<p>100 rows × 5 columns</p>\n",
       "</div>"
      ],
      "text/plain": [
       "                                                    economic  social  culture  \\\n",
       "Tweets                                                                          \n",
       "youve paying attention gone past 4 year none ha...         0       0        0   \n",
       "youve probably read long way small angry planet...         0       0        0   \n",
       "yr lot feel control remember control choose con...         0       0        0   \n",
       "ysrjaganannabaduguvikasam special incentive pac...         0       0        0   \n",
       "ysskhagria india become vishva guru december 25...         0       0        0   \n",
       "...                                                      ...     ...      ...   \n",
       "zzyzxx mercurial everything una go blame cultur...         0       0        0   \n",
       "zzyzxx really culturei learning                            0       0        0   \n",
       "zzyzxx understand correctly culture people didn...         0       0        0   \n",
       "zzyzxx well different experience people culture...         0       0        0   \n",
       "Total                                                   2083    2083     2083   \n",
       "\n",
       "                                                    health  total  \n",
       "Tweets                                                             \n",
       "youve paying attention gone past 4 year none ha...       1      1  \n",
       "youve probably read long way small angry planet...       1      1  \n",
       "yr lot feel control remember control choose con...       2      2  \n",
       "ysrjaganannabaduguvikasam special incentive pac...       0      0  \n",
       "ysskhagria india become vishva guru december 25...       0      0  \n",
       "...                                                    ...    ...  \n",
       "zzyzxx mercurial everything una go blame cultur...       1      1  \n",
       "zzyzxx really culturei learning                          1      1  \n",
       "zzyzxx understand correctly culture people didn...       1      1  \n",
       "zzyzxx well different experience people culture...       1      1  \n",
       "Total                                                62346  68595  \n",
       "\n",
       "[100 rows x 5 columns]"
      ]
     },
     "execution_count": 287,
     "metadata": {},
     "output_type": "execute_result"
    }
   ],
   "source": [
    "#calculate the total number in each category\n",
    "pivot_clusters = cluster_df.groupby(['Tweets']).sum()\n",
    "pivot_clusters['economic'] = pivot_clusters['economic'].astype(int)\n",
    "pivot_clusters['social'] = pivot_clusters['social'].astype(int)\n",
    "pivot_clusters['culture'] = pivot_clusters['culture'].astype(int)\n",
    "pivot_clusters['health'] = pivot_clusters['health'].astype(int)\n",
    "pivot_clusters['total'] = pivot_clusters['health'] + pivot_clusters['culture'] + pivot_clusters['social'] +  pivot_clusters['economic']\n",
    "pivot_clusters.loc[\"Total\"] = pivot_clusters.sum()  #add a totals row\n",
    "print(pivot_clusters.shape)\n",
    "pivot_clusters.tail(100)"
   ]
  },
  {
   "cell_type": "markdown",
   "metadata": {},
   "source": [
    "#### 2.4. Visualizations"
   ]
  },
  {
   "cell_type": "code",
   "execution_count": 288,
   "metadata": {},
   "outputs": [
    {
     "data": {
      "image/png": "[encoded data removed]",
      "text/plain": [
       "<Figure size 720x504 with 1 Axes>"
      ]
     },
     "metadata": {},
     "output_type": "display_data"
    }
   ],
   "source": [
    "#A pie chart to show the total number of tweets in each category\n",
    "figure = plt.figure(figsize =(10, 7)) \n",
    "a = pivot_clusters.drop(['total'], axis = 1)\n",
    "plt.pie(a.loc['Total'], labels = a.columns)\n",
    "plt.title('A pie chart showing the volumes of tweets under different categories.')\n",
    "plt.show() "
   ]
  },
  {
   "cell_type": "markdown",
   "metadata": {},
   "source": [
    "<h4><a><font color='#cc0000'> Note:</font></a></h4> \n",
    "    \n",
    "* The huge percentage (almost 85%) in health due of the current pandemic, Covid19.(everyone is talking about it thus a huge volume of tweets). <br/>\n",
    "* The 15% of the rest are cut in 3 (social, economic and culture)<br/>"
   ]
  },
  {
   "cell_type": "markdown",
   "metadata": {},
   "source": [
    "### 3. KMeans Clustering"
   ]
  },
  {
   "cell_type": "markdown",
   "metadata": {},
   "source": [
    "* Distance computation in k-Means weights each dimension equally and hence care must be taken to ensure that unit of dimension shouldn’t distort relative near-ness of observations. Common method is to unit-standardize each dimension individually.\n",
    "The unit for the tweets are the same, thus no need."
   ]
  },
  {
   "cell_type": "markdown",
   "metadata": {},
   "source": [
    "#### 2D Clusters"
   ]
  },
  {
   "cell_type": "markdown",
   "metadata": {},
   "source": [
    "<h4><a><font color='#cc0000'> Note:</font></a></h4>\n",
    "    \n",
    "* Due of the possibility to find a common  related words between the social, culture and economic related words, some tweets are classified as social,some tweets can be in the same time social and economic,and others social and culture.So this is mainnly a bias in the classification method."
   ]
  },
  {
   "cell_type": "markdown",
   "metadata": {},
   "source": [
    "#### Socio-Economic"
   ]
  },
  {
   "cell_type": "code",
   "execution_count": 289,
   "metadata": {},
   "outputs": [],
   "source": [
    "from sklearn.cluster import KMeans"
   ]
  },
  {
   "cell_type": "code",
   "execution_count": 290,
   "metadata": {},
   "outputs": [
    {
     "data": {
      "image/png": "[encoded data removed]",
      "text/plain": [
       "<Figure size 432x288 with 1 Axes>"
      ]
     },
     "metadata": {
      "needs_background": "light"
     },
     "output_type": "display_data"
    }
   ],
   "source": [
    "# X = pivot_clusters.iloc[:, [0,1]].values\n",
    "X = pivot_clusters[['economic', 'social']].values\n",
    "# Using the elbow method to find the optimal number of clusters\n",
    "# Elbow Method\n",
    "from sklearn.cluster import KMeans\n",
    "wcss = []\n",
    "for i in range(1, 11):\n",
    "    kmeans = KMeans(n_clusters=i, init='k-means++', n_init=10, max_iter=300, random_state=0)\n",
    "    kmeans.fit(X)\n",
    "    #appending the WCSS to the list (kmeans.inertia_ returns the WCSS value for an initialized cluster)\n",
    "    wcss.append(kmeans.inertia_)\n",
    "plt.plot(range(1,11), wcss)\n",
    "plt.title('Elbow Method')\n",
    "plt.xlabel('Number of Clusters')\n",
    "plt.ylabel('wcss')\n",
    "plt.show()"
   ]
  },
  {
   "cell_type": "code",
   "execution_count": 291,
   "metadata": {},
   "outputs": [
    {
     "name": "stdout",
     "output_type": "stream",
     "text": [
      "[0 0 0 ... 0 0 1]\n"
     ]
    },
    {
     "data": {
      "image/png": "[encoded data removed]",
      "text/plain": [
       "<Figure size 432x288 with 1 Axes>"
      ]
     },
     "metadata": {
      "needs_background": "light"
     },
     "output_type": "display_data"
    }
   ],
   "source": [
    "# fitting kmeans to dataset\n",
    "kmeans = KMeans(n_clusters=2, init='k-means++', n_init=10, max_iter=300, random_state=0)\n",
    "#Returns a label for each data point based on the number of clusters\n",
    "y = kmeans.fit_predict(X)\n",
    "print(y)\n",
    "# Visualising the clusters\n",
    "#Scatter plotting for (x,y) with label 1 as Cluster 1 in color c = red and points in size s = 50\n",
    "plt.scatter(X[y == 0, 0], X[y == 0, 1], s = 150, c = 'red', label = 'Cluster 1')\n",
    "#Scatter plotting for (x,y) with label 2 as Cluster 2 in color c = blue and points in size s = 50\n",
    "plt.scatter(X[y == 1, 0], X[y == 1, 1], s = 150, c = 'green', label = 'Cluster 2')\n",
    "plt.scatter(kmeans.cluster_centers_[:, 0], kmeans.cluster_centers_[:, 1], s = 40, c = 'cyan', label = 'Centroids')\n",
    "plt.title('Clusters of tweets in economic and social groups')\n",
    "plt.xlabel('social tweets')\n",
    "plt.ylabel('economic tweets')\n",
    "plt.legend()\n",
    "plt.show()"
   ]
  },
  {
   "cell_type": "markdown",
   "metadata": {},
   "source": [
    "#### Socio-Culture"
   ]
  },
  {
   "cell_type": "code",
   "execution_count": 292,
   "metadata": {},
   "outputs": [
    {
     "data": {
      "image/png": "[encoded data removed]",
      "text/plain": [
       "<Figure size 432x288 with 1 Axes>"
      ]
     },
     "metadata": {
      "needs_background": "light"
     },
     "output_type": "display_data"
    }
   ],
   "source": [
    "# X = pivot_clusters.iloc[:, [2,3]].values\n",
    "X = pivot_clusters[['social','culture']].values\n",
    "\n",
    "# Elbow Method\n",
    "from sklearn.cluster import KMeans\n",
    "wcss = []\n",
    "for i in range(1, 11):\n",
    "    kmeans = KMeans(n_clusters=i, init='k-means++', n_init=10, max_iter=300, random_state=0)\n",
    "    kmeans.fit(X)\n",
    "    wcss.append(kmeans.inertia_)\n",
    "plt.plot(range(1,11), wcss)\n",
    "plt.title('Elbow Method')\n",
    "plt.xlabel('Number of Clusters')\n",
    "plt.ylabel('wcss')\n",
    "plt.show()"
   ]
  },
  {
   "cell_type": "code",
   "execution_count": 293,
   "metadata": {},
   "outputs": [
    {
     "name": "stdout",
     "output_type": "stream",
     "text": [
      "[0 0 0 ... 0 0 1]\n"
     ]
    },
    {
     "data": {
      "image/png": "[encoded data removed]",
      "text/plain": [
       "<Figure size 432x288 with 1 Axes>"
      ]
     },
     "metadata": {
      "needs_background": "light"
     },
     "output_type": "display_data"
    }
   ],
   "source": [
    "# fitting kmeans to dataset\n",
    "kmeans = KMeans(n_clusters=2, init='k-means++', n_init=10, max_iter=300, random_state=0)\n",
    "#Returns a label for each data point based on the number of clusters\n",
    "y = kmeans.fit_predict(X)\n",
    "print(y)\n",
    "# Visualising the clusters\n",
    "#Scatter plotting for (x,y) with label 1 as Cluster 1 in color c = red and points in size s = 50\n",
    "plt.scatter(X[y == 0, 0], X[y == 0, 1], s = 150, c = 'red', label = 'Cluster 1')\n",
    "#Scatter plotting for (x,y) with label 2 as Cluster 2 in color c = blue and points in size s = 50\n",
    "plt.scatter(X[y == 1, 0], X[y == 1, 1], s = 150, c = 'green', label = 'Cluster 2')\n",
    "plt.scatter(kmeans.cluster_centers_[:, 0], kmeans.cluster_centers_[:, 1], s = 40, c = 'cyan', label = 'Centroids')\n",
    "plt.title('Clusters of tweets in social and culture groups')\n",
    "plt.xlabel('social tweets')\n",
    "plt.ylabel('culture tweets')\n",
    "plt.legend()\n",
    "plt.show()"
   ]
  },
  {
   "cell_type": "markdown",
   "metadata": {},
   "source": [
    "#### Socio-Health"
   ]
  },
  {
   "cell_type": "code",
   "execution_count": 294,
   "metadata": {},
   "outputs": [
    {
     "data": {
      "image/png": "[encoded data removed]",
      "text/plain": [
       "<Figure size 432x288 with 1 Axes>"
      ]
     },
     "metadata": {
      "needs_background": "light"
     },
     "output_type": "display_data"
    }
   ],
   "source": [
    "# X = pivot_clusters.iloc[:, [2,4]].values\n",
    "X = pivot_clusters[['social', 'health']].values\n",
    "\n",
    "# Elbow Method\n",
    "from sklearn.cluster import KMeans\n",
    "wcss = []\n",
    "for i in range(1, 11):\n",
    "    kmeans = KMeans(n_clusters=i, init='k-means++', n_init=10, max_iter=300, random_state=0)\n",
    "    kmeans.fit(X)\n",
    "    wcss.append(kmeans.inertia_)\n",
    "plt.plot(range(1,11), wcss)\n",
    "plt.title('Elbow Method')\n",
    "plt.xlabel('Number of Clusters')\n",
    "plt.ylabel('wcss')\n",
    "plt.show()\n"
   ]
  },
  {
   "cell_type": "code",
   "execution_count": 295,
   "metadata": {},
   "outputs": [
    {
     "name": "stdout",
     "output_type": "stream",
     "text": [
      "[0 0 0 ... 0 0 1]\n"
     ]
    },
    {
     "data": {
      "image/png": "[encoded data removed]",
      "text/plain": [
       "<Figure size 432x288 with 1 Axes>"
      ]
     },
     "metadata": {
      "needs_background": "light"
     },
     "output_type": "display_data"
    }
   ],
   "source": [
    "# fitting kmeans to dataset\n",
    "kmeans = KMeans(n_clusters=2, init='k-means++', n_init=10, max_iter=300, random_state=0)\n",
    "#Returns a label for each data point based on the number of clusters\n",
    "y = kmeans.fit_predict(X)\n",
    "print(y)\n",
    "# Visualising the clusters\n",
    "#Scatter plotting for (x,y) with label 1 as Cluster 1 in color c = red and points in size s = 50\n",
    "plt.scatter(X[y == 0, 0], X[y == 0, 1], s = 150, c = 'red', label = 'Cluster 1')\n",
    "#Scatter plotting for (x,y) with label 2 as Cluster 2 in color c = blue and points in size s = 50\n",
    "plt.scatter(X[y == 1, 0], X[y == 1, 1], s = 150, c = 'green', label = 'Cluster 2')\n",
    "plt.scatter(kmeans.cluster_centers_[:, 0], kmeans.cluster_centers_[:, 1], s = 40, c = 'cyan', label = 'Centroids')\n",
    "plt.title('Clusters of tweets in social and health groups')\n",
    "plt.xlabel('social tweets')\n",
    "plt.ylabel('health tweets')\n",
    "plt.legend()\n",
    "plt.show()"
   ]
  },
  {
   "cell_type": "markdown",
   "metadata": {},
   "source": [
    "#### Economic-health"
   ]
  },
  {
   "cell_type": "code",
   "execution_count": 296,
   "metadata": {},
   "outputs": [
    {
     "data": {
      "image/png": "[encoded data removed]",
      "text/plain": [
       "<Figure size 432x288 with 1 Axes>"
      ]
     },
     "metadata": {
      "needs_background": "light"
     },
     "output_type": "display_data"
    }
   ],
   "source": [
    "# X = pivot_clusters.iloc[:, [2,4]].values\n",
    "X = pivot_clusters[['economic', 'health']].values\n",
    "\n",
    "# Elbow Method\n",
    "from sklearn.cluster import KMeans\n",
    "wcss = []\n",
    "for i in range(1, 11):\n",
    "    kmeans = KMeans(n_clusters=i, init='k-means++', n_init=10, max_iter=300, random_state=0)\n",
    "    kmeans.fit(X)\n",
    "    wcss.append(kmeans.inertia_)\n",
    "plt.plot(range(1,11), wcss)\n",
    "plt.title('Elbow Method')\n",
    "plt.xlabel('Number of Clusters')\n",
    "plt.ylabel('wcss')\n",
    "plt.show()\n"
   ]
  },
  {
   "cell_type": "code",
   "execution_count": 297,
   "metadata": {},
   "outputs": [
    {
     "name": "stdout",
     "output_type": "stream",
     "text": [
      "[0 0 0 ... 0 0 1]\n"
     ]
    },
    {
     "data": {
      "image/png": "[encoded data removed]",
      "text/plain": [
       "<Figure size 432x288 with 1 Axes>"
      ]
     },
     "metadata": {
      "needs_background": "light"
     },
     "output_type": "display_data"
    }
   ],
   "source": [
    "# fitting kmeans to dataset\n",
    "kmeans = KMeans(n_clusters=2, init='k-means++', n_init=10, max_iter=300, random_state=0)\n",
    "#Returns a label for each data point based on the number of clusters\n",
    "y = kmeans.fit_predict(X)\n",
    "print(y)\n",
    "# Visualising the clusters\n",
    "#Scatter plotting for (x,y) with label 1 as Cluster 1 in color c = red and points in size s = 50\n",
    "plt.scatter(X[y == 0, 0], X[y == 0, 1], s = 150, c = 'red', label = 'Cluster 1')\n",
    "#Scatter plotting for (x,y) with label 2 as Cluster 2 in color c = blue and points in size s = 50\n",
    "plt.scatter(X[y == 1, 0], X[y == 1, 1], s = 150, c = 'green', label = 'Cluster 2')\n",
    "plt.scatter(kmeans.cluster_centers_[:, 0], kmeans.cluster_centers_[:, 1], s = 40, c = 'cyan', label = 'Centroids')\n",
    "plt.title('Clusters of tweets in economic and health groups')\n",
    "plt.xlabel('economic tweets')\n",
    "plt.ylabel('health tweets')\n",
    "plt.legend()\n",
    "plt.show()"
   ]
  },
  {
   "cell_type": "markdown",
   "metadata": {},
   "source": [
    "####  Economic-Culture"
   ]
  },
  {
   "cell_type": "code",
   "execution_count": 298,
   "metadata": {},
   "outputs": [
    {
     "data": {
      "image/png": "[encoded data removed]",
      "text/plain": [
       "<Figure size 432x288 with 1 Axes>"
      ]
     },
     "metadata": {
      "needs_background": "light"
     },
     "output_type": "display_data"
    }
   ],
   "source": [
    "# X = pivot_clusters.iloc[:, [2,4]].values\n",
    "X = pivot_clusters[['economic', 'culture']].values\n",
    "\n",
    "# Elbow Method\n",
    "from sklearn.cluster import KMeans\n",
    "wcss = []\n",
    "for i in range(1, 11):\n",
    "    kmeans = KMeans(n_clusters=i, init='k-means++', n_init=10, max_iter=300, random_state=0)\n",
    "    kmeans.fit(X)\n",
    "    wcss.append(kmeans.inertia_)\n",
    "plt.plot(range(1,11), wcss)\n",
    "plt.title('Elbow Method')\n",
    "plt.xlabel('Number of Clusters')\n",
    "plt.ylabel('wcss')\n",
    "plt.show()\n"
   ]
  },
  {
   "cell_type": "code",
   "execution_count": 299,
   "metadata": {},
   "outputs": [
    {
     "name": "stdout",
     "output_type": "stream",
     "text": [
      "[0 0 0 ... 0 0 1]\n"
     ]
    },
    {
     "data": {
      "image/png": "[encoded data removed]",
      "text/plain": [
       "<Figure size 432x288 with 1 Axes>"
      ]
     },
     "metadata": {
      "needs_background": "light"
     },
     "output_type": "display_data"
    }
   ],
   "source": [
    "# fitting kmeans to dataset\n",
    "kmeans = KMeans(n_clusters=2, init='k-means++', n_init=10, max_iter=300, random_state=0)\n",
    "#Returns a label for each data point based on the number of clusters\n",
    "y = kmeans.fit_predict(X)\n",
    "print(y)\n",
    "# Visualising the clusters\n",
    "#Scatter plotting for (x,y) with label 1 as Cluster 1 in color c = red and points in size s = 50\n",
    "plt.scatter(X[y == 0, 0], X[y == 0, 1], s = 150, c = 'red', label = 'Cluster 1')\n",
    "#Scatter plotting for (x,y) with label 2 as Cluster 2 in color c = blue and points in size s = 50\n",
    "plt.scatter(X[y == 1, 0], X[y == 1, 1], s = 150, c = 'green', label = 'Cluster 2')\n",
    "plt.scatter(kmeans.cluster_centers_[:, 0], kmeans.cluster_centers_[:, 1], s = 40, c = 'cyan', label = 'Centroids')\n",
    "plt.title('Clusters of tweets in economic and culture groups')\n",
    "plt.xlabel('economic tweets')\n",
    "plt.ylabel('culture tweets')\n",
    "plt.legend()\n",
    "plt.show()"
   ]
  },
  {
   "cell_type": "markdown",
   "metadata": {},
   "source": [
    "#### Health-Culture"
   ]
  },
  {
   "cell_type": "code",
   "execution_count": 300,
   "metadata": {},
   "outputs": [
    {
     "data": {
      "image/png": "[encoded data removed]",
      "text/plain": [
       "<Figure size 432x288 with 1 Axes>"
      ]
     },
     "metadata": {
      "needs_background": "light"
     },
     "output_type": "display_data"
    }
   ],
   "source": [
    "# X = pivot_clusters.iloc[:, [2,4]].values\n",
    "X = pivot_clusters[['health', 'culture']].values\n",
    "\n",
    "# Elbow Method\n",
    "from sklearn.cluster import KMeans\n",
    "wcss = []\n",
    "for i in range(1, 11):\n",
    "    kmeans = KMeans(n_clusters=i, init='k-means++', n_init=10, max_iter=300, random_state=0)\n",
    "    kmeans.fit(X)\n",
    "    wcss.append(kmeans.inertia_)\n",
    "plt.plot(range(1,11), wcss)\n",
    "plt.title('Elbow Method')\n",
    "plt.xlabel('Number of Clusters')\n",
    "plt.ylabel('wcss')\n",
    "plt.show()\n"
   ]
  },
  {
   "cell_type": "code",
   "execution_count": 301,
   "metadata": {},
   "outputs": [
    {
     "name": "stdout",
     "output_type": "stream",
     "text": [
      "[0 0 0 ... 0 0 1]\n"
     ]
    },
    {
     "data": {
      "image/png": "[encoded data removed]",
      "text/plain": [
       "<Figure size 432x288 with 1 Axes>"
      ]
     },
     "metadata": {
      "needs_background": "light"
     },
     "output_type": "display_data"
    }
   ],
   "source": [
    "# fitting kmeans to dataset\n",
    "kmeans = KMeans(n_clusters=2, init='k-means++', n_init=10, max_iter=300, random_state=0)\n",
    "#Returns a label for each data point based on the number of clusters\n",
    "y = kmeans.fit_predict(X)\n",
    "print(y)\n",
    "# Visualising the clusters\n",
    "#Scatter plotting for (x,y) with label 1 as Cluster 1 in color c = red and points in size s = 50\n",
    "plt.scatter(X[y == 0, 0], X[y == 0, 1], s = 150, c = 'red', label = 'Cluster 1')\n",
    "#Scatter plotting for (x,y) with label 2 as Cluster 2 in color c = blue and points in size s = 50\n",
    "plt.scatter(X[y == 1, 0], X[y == 1, 1], s = 150, c = 'green', label = 'Cluster 2')\n",
    "plt.scatter(kmeans.cluster_centers_[:, 0], kmeans.cluster_centers_[:, 1], s = 40, c = 'cyan', label = 'Centroids')\n",
    "plt.title('Clusters of tweets in culture and health groups')\n",
    "plt.xlabel('culture tweets')\n",
    "plt.ylabel('health tweets')\n",
    "plt.legend()\n",
    "plt.show()"
   ]
  },
  {
   "cell_type": "code",
   "execution_count": null,
   "metadata": {},
   "outputs": [],
   "source": []
  }
 ],
 "metadata": {
  "kernelspec": {
   "display_name": "Python 3",
   "language": "python",
   "name": "python3"
  },
  "language_info": {
   "codemirror_mode": {
    "name": "ipython",
    "version": 3
   },
   "file_extension": ".py",
   "mimetype": "text/x-python",
   "name": "python",
   "nbconvert_exporter": "python",
   "pygments_lexer": "ipython3",
   "version": "3.8.3"
  }
 },
 "nbformat": 4,
 "nbformat_minor": 4
}
